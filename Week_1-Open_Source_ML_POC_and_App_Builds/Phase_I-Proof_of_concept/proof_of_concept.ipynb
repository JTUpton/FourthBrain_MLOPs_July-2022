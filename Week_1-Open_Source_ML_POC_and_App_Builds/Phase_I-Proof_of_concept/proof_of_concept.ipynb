{
 "cells": [
  {
   "cell_type": "markdown",
   "metadata": {},
   "source": [
    "<p align = \"center\" draggable=”false” ><img src=\"https://user-images.githubusercontent.com/37101144/161836199-fdb0219d-0361-4988-bf26-48b0fad160a3.png\"\n",
    "     width=\"200px\"\n",
    "     height=\"auto\"/>\n",
    "</p>\n",
    "\n",
    "\n",
    "\n",
    "# <h1 align=\"center\" id=\"heading\">Phase I - Proof of Concept</h1>\n",
    "\n",
    "\n",
    "\n",
    "## ☑️ Objectives\n",
    "At the end of this session, you will have a brief understanding of how to:\n",
    "- [ ] Find and run pre-trained models (Phase I)\n",
    "- [ ] Evaluate results from pre-trained models (Phase I)\n",
    "- [ ] Run a pre-trained model using real Reddit data (Phase I)\n",
    "\n",
    "\n",
    "## 🛠️ Pre-Assignment\n",
    "1. Create a virtual environment with 🐍 conda : `conda env create -f environment.yml`\n",
    "\n",
    "2. Activate your conda virtual environment: `conda activate tsla_bot`\n",
    "\n",
    "3. Create a .env file in the root directory and add the following variables:\n",
    "4. \n",
    "   `STOCK_API_KEY` : API key from [twelvedata](https://twelvedata.com/pricing)\n",
    "\n",
    "   `REDDIT_API_CLIENT_ID` : client ID of your reddit app\n",
    "   \n",
    "   `REDDIT_API_CLIENT_SECRET`: client secret of your reddit app\n",
    "   \n",
    "   Follow this tutorial to generate your own Reddit credentials:\n",
    "   <https://www.jcchouinard.com/get-reddit-api-credentials-with-praw/>\n",
    "\n",
    "4. Continue in this notebook\n",
    "\n",
    "\n",
    "\n",
    "## Background\n"
   ]
  },
  {
   "cell_type": "markdown",
   "metadata": {},
   "source": [
    "After the meeting with your boss, and reviewing your [notes](https://www.notion.so/Analyzing-Market-Sentiment-Phase-I-II-and-II-End-to-End-MLOps-with-Open-Source-Tools-dc4b846108b44f6bb2962d550368560c#54cc350bc95041ee873dabde36930af1) 📓, you're ready to get going on a Proof of Concept (POC)\n",
    "\n",
    "A POC tests the validity of your hypothesis. It's a way to prove that your idea, task, app, or whatever else works!\n",
    "\n",
    "There's no time to waste - you've got an idea - it's time to get testing it out! 🏁"
   ]
  },
  {
   "cell_type": "markdown",
   "metadata": {},
   "source": [
    "### Step 1: Initial Imports and Variable Setting 📈\n",
    "\n",
    "First things first: Let's set some variables that will help us going forward.\n",
    "\n",
    "Though your boss suggested `\"TSLA\"`, you can use any active stock-symbol and subreddit!\n",
    "\n",
    "**IMPORTANT**: Make sure you verify that your selected subreddit exists by navigating to the generated link after you run the following cell"
   ]
  },
  {
   "cell_type": "code",
   "execution_count": 1,
   "metadata": {},
   "outputs": [
    {
     "name": "stdout",
     "output_type": "stream",
     "text": [
      "reddit.com/r/teslainvestorsclub\n"
     ]
    }
   ],
   "source": [
    "from datetime import datetime, timedelta\n",
    "\n",
    "### START CODE HERE\n",
    "\n",
    "# Stock data to grab ex. \"TSLA\"\n",
    "symbol = \"TSLA\"\n",
    "\n",
    "# subreddit to check\n",
    "subreddit = \"teslainvestorsclub\"\n",
    "\n",
    "# Time interval granularity\n",
    "# valid choices are \"1week\", \"1month\", \"1day\"\n",
    "interval = \"1month\"\n",
    "\n",
    "# set the beginning and end of the time range you'd like to analyze\n",
    "# ensure you use the format \"YYYY-MM-DD\"\n",
    "start_date = \"2022-02-01\"\n",
    "end_date = \"2022-07-04\"\n",
    "\n",
    "### END CODE HERE\n",
    "\n",
    "start_date_dt = datetime.strptime(start_date, '%Y-%m-%d')\n",
    "end_date_dt = datetime.strptime(end_date, '%Y-%m-%d')\n",
    "\n",
    "print(f'reddit.com/r/{subreddit}')"
   ]
  },
  {
   "cell_type": "markdown",
   "metadata": {},
   "source": [
    "In order to make sure we can import our `BotUtils.py`, we have to ensure we're running from the `TSLASentimentAnalyzer` folder. To do this, we can `cd` into that directory!"
   ]
  },
  {
   "cell_type": "code",
   "execution_count": 2,
   "metadata": {},
   "outputs": [
    {
     "name": "stdout",
     "output_type": "stream",
     "text": [
      "/Users/uptonj/Desktop/FourthBrain/MLOps4week/code/FourthBrain_MLOPs_July-2022/Week_1-Open_Source_ML_POC_and_App_Builds/Phase_I-Proof_of_concept/TSLASentimentAnalyzer\n"
     ]
    }
   ],
   "source": [
    "cd TSLASentimentAnalyzer"
   ]
  },
  {
   "cell_type": "markdown",
   "metadata": {},
   "source": [
    "### Step 2: Set Environment Variables ⛰️\n",
    "\n",
    "Use the information you created in the instructions of the `README.md` to fill in the values below!"
   ]
  },
  {
   "cell_type": "code",
   "execution_count": 3,
   "metadata": {},
   "outputs": [],
   "source": [
    "# define env variables for configuration\n",
    "import os\n",
    "os.environ['REDDIT_API_CLIENT_ID'] = \"e4vCtHGCUt-JTC2FaG87mA\"\n",
    "os.environ['REDDIT_API_CLIENT_SECRET'] = \"n-7-6eVgUabjN9wbwhhtgEY5EPuCkQ\"\n",
    "os.environ['STOCK_DATA_API_KEY'] = \"4f4249b69870478abbaff8a69eed7510\""
   ]
  },
  {
   "cell_type": "markdown",
   "metadata": {},
   "source": [
    "### Step 3: Get to Scraping 🌐\n",
    "\n",
    "Now we're going to use the `scraper` module (found in the `TSLASentimentAnalyzer` folder) to \"scrape\" the subreddit of our choosing for posts!\n",
    "\n",
    "⚗️ RESOURCES: \n",
    "\n",
    "[Web Scraping](https://www.parsehub.com/blog/what-is-web-scraping/)\n",
    "\n",
    "[Reddit Post Options](https://www.reddit.com/r/help/comments/32eu8w/what_is_the_difference_between_newrising_hot_top/)"
   ]
  },
  {
   "cell_type": "markdown",
   "metadata": {},
   "source": [
    "##### Initializing the Scraper"
   ]
  },
  {
   "cell_type": "code",
   "execution_count": 4,
   "metadata": {},
   "outputs": [],
   "source": [
    "import pandas as pd\n",
    "from loguru import logger\n",
    "from TSLASentimentAnalyzer.classifier import predict\n",
    "from TSLASentimentAnalyzer.scraper import RedditScraper\n",
    "from TSLASentimentAnalyzer.config import settings\n",
    "\n",
    "# instantiating the reddit scraper\n",
    "reddit = RedditScraper(\"teslainvestorsclub\")"
   ]
  },
  {
   "cell_type": "markdown",
   "metadata": {},
   "source": [
    "##### Helper Functions 🔨\n",
    "\n",
    "Here are some helper functions to assist in collecting data!"
   ]
  },
  {
   "cell_type": "code",
   "execution_count": 5,
   "metadata": {},
   "outputs": [],
   "source": [
    "from collections.abc import Callable\n",
    "\n",
    "def load_comments(number: int, scraping_option: Callable) -> pd.DataFrame:\n",
    "    '''\n",
    "    loads comments from reddit using the RedditScraper using one of the options\n",
    "    and returns a DataFrame\n",
    "\n",
    "    Parameters\n",
    "    ----------\n",
    "    number : int\n",
    "        number of posts to load comments from\n",
    "\n",
    "    scraping_options: callable\n",
    "        expects a select_scrap_type function\n",
    "    '''\n",
    "    comments = []\n",
    "    for submission in scraping_option(number):\n",
    "        comments.extend(reddit.get_comment_forest(submission.comments))\n",
    "        logger.debug(\n",
    "            submission.title,\n",
    "            submission.num_comments,\n",
    "            len(reddit.get_comment_forest(submission.comments)),\n",
    "        )\n",
    "    df = pd.DataFrame(comments)\n",
    "    return df\n",
    "\n",
    "\n",
    "def select_scrap_type(option: str) -> Callable:\n",
    "    '''\n",
    "    selects a method from the reddit object based on a given option\n",
    "    '''\n",
    "    if option == \"Hot\":\n",
    "        return reddit.get_hot\n",
    "        \n",
    "    if option == \"Rising\":\n",
    "        return reddit.get_rising\n",
    "\n",
    "    if option == \"New\":\n",
    "        return reddit.get_new"
   ]
  },
  {
   "cell_type": "markdown",
   "metadata": {},
   "source": [
    "##### Loading & Processing the Reddit Comment Data\n",
    "\n",
    "Let's scrape the 15 🔥 hottest 🔥 posts from your selected subreddit using the `load_comments()` helper function!"
   ]
  },
  {
   "cell_type": "code",
   "execution_count": 7,
   "metadata": {},
   "outputs": [
    {
     "name": "stderr",
     "output_type": "stream",
     "text": [
      "2022-08-08 14:32:12.508 | DEBUG    | TSLASentimentAnalyzer.scraper:get_comment_forest:41 - <praw.models.comment_forest.CommentForest object at 0x17a317fd0>\n",
      "2022-08-08 14:32:12.509 | DEBUG    | TSLASentimentAnalyzer.scraper:get_comment_forest:41 - <praw.models.comment_forest.CommentForest object at 0x17a317fd0>\n",
      "2022-08-08 14:32:12.510 | DEBUG    | __main__:load_comments:19 - Daily Thread - August 08, 2022\n",
      "2022-08-08 14:32:25.544 | DEBUG    | TSLASentimentAnalyzer.scraper:get_comment_forest:41 - <praw.models.comment_forest.CommentForest object at 0x17a18cf40>\n",
      "2022-08-08 14:32:25.546 | INFO     | TSLASentimentAnalyzer.scraper:get_comment_forest:44 - more comments\n",
      "2022-08-08 14:32:35.826 | DEBUG    | TSLASentimentAnalyzer.scraper:get_comment_forest:41 - <MoreComments count=5, children=['ii1pbsy', 'hyrqfu3', 'i8fvzlu', 'ie4wi2u']>\n",
      "2022-08-08 14:32:35.828 | DEBUG    | TSLASentimentAnalyzer.scraper:get_comment_forest:45 - [{'comment': '[deleted]', 'title': 'Long-running Thread for Detailed Discussion', 'id': 'ie4wi2u', 'created_at': 1656468904, 'score': 1}, {'comment': 'Short answer: No one knows.\\n\\nLong answer: Buy and hold.', 'title': 'Long-running Thread for Detailed Discussion', 'id': 'ie4zavi', 'created_at': 1656470260, 'score': 9}]\n",
      "2022-08-08 14:32:35.830 | INFO     | TSLASentimentAnalyzer.scraper:get_comment_forest:44 - more comments\n",
      "2022-08-08 14:32:45.958 | DEBUG    | TSLASentimentAnalyzer.scraper:get_comment_forest:41 - <MoreComments count=1, children=['igxfxaq']>\n",
      "2022-08-08 14:32:45.960 | DEBUG    | TSLASentimentAnalyzer.scraper:get_comment_forest:45 - [{'comment': \"I really wish Elon would have clarified that more when this all first came out. There was a lot of negative sentiment. But if he was just referring to certain execs, that's much more understandable.\", 'title': 'Long-running Thread for Detailed Discussion', 'id': 'igxfxaq', 'created_at': 1658331306, 'score': 1}]\n",
      "2022-08-08 14:32:45.962 | INFO     | TSLASentimentAnalyzer.scraper:get_comment_forest:44 - more comments\n",
      "2022-08-08 14:32:56.104 | DEBUG    | TSLASentimentAnalyzer.scraper:get_comment_forest:41 - <MoreComments count=1, children=['iixftwk']>\n",
      "2022-08-08 14:32:56.105 | DEBUG    | TSLASentimentAnalyzer.scraper:get_comment_forest:45 - [{'comment': 'Energy storage and solar was once described by Elon as potentially growing larger than their vehicle business. Haven’t heard that in a while, but I still think the energy alone could be a trillion dollar business.', 'title': 'Long-running Thread for Detailed Discussion', 'id': 'iixftwk', 'created_at': 1659627658, 'score': 1}]\n",
      "2022-08-08 14:32:56.107 | INFO     | TSLASentimentAnalyzer.scraper:get_comment_forest:44 - more comments\n",
      "2022-08-08 14:33:06.247 | DEBUG    | TSLASentimentAnalyzer.scraper:get_comment_forest:41 - <MoreComments count=1, children=['ig3t837']>\n",
      "2022-08-08 14:33:06.249 | DEBUG    | TSLASentimentAnalyzer.scraper:get_comment_forest:45 - [{'comment': '>  a potential future scenario that most people are not considering when they think of Tesla?\\n\\nTesla goes into AGI and solves it in 2-3 years, massive economic and political turmoil results.', 'title': 'Long-running Thread for Detailed Discussion', 'id': 'ig3t837', 'created_at': 1657789619, 'score': 1}]\n",
      "2022-08-08 14:33:06.251 | INFO     | TSLASentimentAnalyzer.scraper:get_comment_forest:44 - more comments\n",
      "2022-08-08 14:33:16.446 | DEBUG    | TSLASentimentAnalyzer.scraper:get_comment_forest:41 - <MoreComments count=1, children=['icog1ii']>\n",
      "2022-08-08 14:33:16.448 | DEBUG    | TSLASentimentAnalyzer.scraper:get_comment_forest:45 - [{'comment': 'A better question to ask is why the stock market reached such clearly unsustainable levels. It all comes back to the actions of central banks pumping multiple asset bubbles since 2000.', 'title': 'Long-running Thread for Detailed Discussion', 'id': 'icog1ii', 'created_at': 1655445900, 'score': 1}]\n",
      "2022-08-08 14:33:16.450 | INFO     | TSLASentimentAnalyzer.scraper:get_comment_forest:44 - more comments\n",
      "2022-08-08 14:33:26.592 | DEBUG    | TSLASentimentAnalyzer.scraper:get_comment_forest:41 - <MoreComments count=1, children=['idtu2bb']>\n",
      "2022-08-08 14:33:26.594 | DEBUG    | TSLASentimentAnalyzer.scraper:get_comment_forest:45 - [{'comment': 'Peoples best guess the 279 mile ones have 4680 and the 330 mile ones have 2170.', 'title': 'Long-running Thread for Detailed Discussion', 'id': 'idtu2bb', 'created_at': 1656264621, 'score': 1}]\n",
      "2022-08-08 14:33:26.596 | INFO     | TSLASentimentAnalyzer.scraper:get_comment_forest:44 - more comments\n",
      "2022-08-08 14:33:36.736 | DEBUG    | TSLASentimentAnalyzer.scraper:get_comment_forest:41 - <MoreComments count=1, children=['iih053s']>\n",
      "2022-08-08 14:33:36.738 | DEBUG    | TSLASentimentAnalyzer.scraper:get_comment_forest:45 - [{'comment': 'Brompton!', 'title': 'Long-running Thread for Detailed Discussion', 'id': 'iih053s', 'created_at': 1659329844, 'score': 1}]\n",
      "2022-08-08 14:33:36.740 | INFO     | TSLASentimentAnalyzer.scraper:get_comment_forest:44 - more comments\n",
      "2022-08-08 14:33:46.894 | DEBUG    | TSLASentimentAnalyzer.scraper:get_comment_forest:41 - <MoreComments count=8, children=['i3er2ky']>\n",
      "2022-08-08 14:33:46.896 | DEBUG    | TSLASentimentAnalyzer.scraper:get_comment_forest:45 - [{'comment': 'Shanghai is part / material constrained, not capacity constrained.  Therefore they can just run a faster run rate to make up for the down time.\\n\\nThe shutdown won’t affect Q2 production at all.  Sorry but you’re wrong and your worry is unfounded.\\n\\nEdit:  I just saw you would be surprised if they get more than 1 week of production from the Entire quarter???  That’s different.  You just crazy', 'title': 'Long-running Thread for Detailed Discussion', 'id': 'i3er2ky', 'created_at': 1649109384, 'score': 0}, {'comment': \"That's ridiculous, doesn't matter how often you repeat it. \\n\\n2 weeks of production can't be made up, impossible. Maybe they can make up some but not 2 weeks.\", 'title': 'Long-running Thread for Detailed Discussion', 'id': 'i3qexz8', 'created_at': 1649314633, 'score': 2}, {'comment': 'If you’re running at 75% capacity and you miss 2 weeks you can then run at 100% capacity for a while and make it up.\\n\\nNot too difficult of a concept for most to understand.', 'title': 'Long-running Thread for Detailed Discussion', 'id': 'i3smoj0', 'created_at': 1649356401, 'score': -1}, {'comment': \"This is how you imagine Tesla Factories to run? \\n\\nLet me ask you, why didn't they run on 100% before?\\nAnd after a harsh lockdown of 2 weeks they just decided to now do 100% instead of 75%? All required parts and people are magically there.\\n\\nYou have an oversimplified view of how they operate.\", 'title': 'Long-running Thread for Detailed Discussion', 'id': 'i3sr1zo', 'created_at': 1649358028, 'score': 3}, {'comment': 'They weren’t operating at 100% before because of part and material shortages (didn’t we already cover this??  You should know that!)\\n\\nDuring the down time, Tesla can stockpile the parts that were in shortage.  This will allow them to run at a higher run rate when they reopen. \\n\\nIt’s not a simplified view - it’s reality', 'title': 'Long-running Thread for Detailed Discussion', 'id': 'i3srs3r', 'created_at': 1649358301, 'score': 0}, {'comment': 'Stockpiling during the lockdown??? Dude, this whole city is in lockdown. There are no trucks, no ships, no trains moving and people locked in their homes.', 'title': 'Long-running Thread for Detailed Discussion', 'id': 'i3sswuy', 'created_at': 1649358730, 'score': 7}, {'comment': 'Yea but those parts and materials are still being produced elsewhere.  The whole world hasn’t stopped.  You have to have a longer frame of time.  The quarter just started.', 'title': 'Long-running Thread for Detailed Discussion', 'id': 'i3st80k', 'created_at': 1649358850, 'score': 0}, {'comment': \">Yea but those parts and materials are still being produced elsewhere. \\n\\nNo, they aren't. Tesla production in Shanghai is localized, most of the parts are being produced nearby.\", 'title': 'Long-running Thread for Detailed Discussion', 'id': 'i4290wr', 'created_at': 1649527286, 'score': 3}]\n",
      "2022-08-08 14:33:46.899 | INFO     | TSLASentimentAnalyzer.scraper:get_comment_forest:44 - more comments\n",
      "2022-08-08 14:33:57.036 | DEBUG    | TSLASentimentAnalyzer.scraper:get_comment_forest:41 - <MoreComments count=2, children=['ide8wd6']>\n",
      "2022-08-08 14:33:57.037 | DEBUG    | TSLASentimentAnalyzer.scraper:get_comment_forest:45 - [{'comment': 'Earliest delivery is still October though if you order now.', 'title': 'Long-running Thread for Detailed Discussion', 'id': 'ide8wd6', 'created_at': 1655960123, 'score': 1}, {'comment': 'Sure but good to at least see movement on the deliveries in action from Berlin', 'title': 'Long-running Thread for Detailed Discussion', 'id': 'idh168y', 'created_at': 1656014843, 'score': 2}]\n",
      "2022-08-08 14:33:57.037 | INFO     | TSLASentimentAnalyzer.scraper:get_comment_forest:44 - more comments\n",
      "2022-08-08 14:34:07.182 | DEBUG    | TSLASentimentAnalyzer.scraper:get_comment_forest:41 - <MoreComments count=1, children=['iih09pp']>\n",
      "2022-08-08 14:34:07.183 | DEBUG    | TSLASentimentAnalyzer.scraper:get_comment_forest:45 - [{'comment': 'This was the Andrew Yang future', 'title': 'Long-running Thread for Detailed Discussion', 'id': 'iih09pp', 'created_at': 1659329929, 'score': 1}]\n",
      "2022-08-08 14:34:07.185 | INFO     | TSLASentimentAnalyzer.scraper:get_comment_forest:44 - more comments\n",
      "2022-08-08 14:34:17.337 | DEBUG    | TSLASentimentAnalyzer.scraper:get_comment_forest:41 - <MoreComments count=3, children=['ibv2pbx']>\n",
      "2022-08-08 14:34:17.338 | DEBUG    | TSLASentimentAnalyzer.scraper:get_comment_forest:45 - [{'comment': 'Thanks for the info, I find it hard to find any new info about Dojo and maybe this is why.  When did he say this?', 'title': 'Long-running Thread for Detailed Discussion', 'id': 'ibv2pbx', 'created_at': 1654873445, 'score': 1}, {'comment': \"I can't remember where exactly. I wanna say it was at least 3 if not 6+ months ago. \\n\\nI'm still hopeful it will offer some value, but I'm not using it as  a factor in my stock price estimate. \\n\\nThe R&D money for it I imagine is largely spent, so I don't think it will be a financial drag in any way, shape or form. The company has probably learnt a fair bit which may assist with future chip design programmes. \\n\\nBut I've stripped any AWS type service, or cost savings from the programme.\", 'title': 'Long-running Thread for Detailed Discussion', 'id': 'ibv3mw0', 'created_at': 1654873845, 'score': 3}, {'comment': 'Honestly difficult for them to make any kind of AWS-like service work at this point, with Google throwing exaflop-class TPU v4 pods and a massive amount of developer momentum around.', 'title': 'Long-running Thread for Detailed Discussion', 'id': 'ibwng0j', 'created_at': 1654898239, 'score': 2}]\n",
      "2022-08-08 14:34:17.340 | INFO     | TSLASentimentAnalyzer.scraper:get_comment_forest:44 - more comments\n",
      "2022-08-08 14:34:27.504 | DEBUG    | TSLASentimentAnalyzer.scraper:get_comment_forest:41 - <MoreComments count=5, children=['icb287a']>\n",
      "2022-08-08 14:34:27.505 | DEBUG    | TSLASentimentAnalyzer.scraper:get_comment_forest:45 - [{'comment': 'I thought Elon said that DOJO would speed up the development of FSD?', 'title': 'Long-running Thread for Detailed Discussion', 'id': 'icb287a', 'created_at': 1655195089, 'score': 1}, {'comment': \"Yes, in the long term ONLY IF they get it working significantly better than the nvidia cluster.\\n\\nThat's not going to happen in a hurry. \\n\\nEven when they have validated that the chips work as intended - there is so much software/hardware infrastructure around the whoal thing - it's going to take time. \\n\\nAnd if they solve it - then they can speed up FSD training.\", 'title': 'Long-running Thread for Detailed Discussion', 'id': 'icb3m7y', 'created_at': 1655196378, 'score': 3}, {'comment': 'So are we talking months or years?  Thanks for the info btw.', 'title': 'Long-running Thread for Detailed Discussion', 'id': 'icb4dui', 'created_at': 1655197101, 'score': 2}, {'comment': \"Years. \\n\\nAnd probably they won't build a training cluster with the chip they showed off at AI day - but the next iteration instead. \\nOnce they get closer to getting everything together the next chip iteration is probably finished already.\\n\\nI don't have an inside, these are educated guesses.\", 'title': 'Long-running Thread for Detailed Discussion', 'id': 'icb59li', 'created_at': 1655197906, 'score': 2}, {'comment': \"That can't be right, that would mean there is no way for them to have a million robotaxis on the road by the end of 2020.\", 'title': 'Long-running Thread for Detailed Discussion', 'id': 'icbmmwu', 'created_at': 1655210589, 'score': 2}]\n",
      "2022-08-08 14:34:27.507 | INFO     | TSLASentimentAnalyzer.scraper:get_comment_forest:44 - more comments\n",
      "2022-08-08 14:34:37.654 | DEBUG    | TSLASentimentAnalyzer.scraper:get_comment_forest:41 - <MoreComments count=1, children=['iirqwat']>\n",
      "2022-08-08 14:34:37.656 | DEBUG    | TSLASentimentAnalyzer.scraper:get_comment_forest:45 - [{'comment': 'I guess they would wait for another share price rally after Q3/Q4 earnings call.', 'title': 'Long-running Thread for Detailed Discussion', 'id': 'iirqwat', 'created_at': 1659527423, 'score': 1}]\n",
      "2022-08-08 14:34:37.658 | INFO     | TSLASentimentAnalyzer.scraper:get_comment_forest:44 - more comments\n",
      "2022-08-08 14:34:47.799 | DEBUG    | TSLASentimentAnalyzer.scraper:get_comment_forest:41 - <MoreComments count=1, children=['ic2vk99']>\n",
      "2022-08-08 14:34:47.800 | DEBUG    | TSLASentimentAnalyzer.scraper:get_comment_forest:45 - [{'comment': 'Yep', 'title': 'Long-running Thread for Detailed Discussion', 'id': 'ic2vk99', 'created_at': 1655035776, 'score': 1}]\n",
      "2022-08-08 14:34:47.802 | INFO     | TSLASentimentAnalyzer.scraper:get_comment_forest:44 - more comments\n",
      "2022-08-08 14:34:57.978 | DEBUG    | TSLASentimentAnalyzer.scraper:get_comment_forest:41 - <MoreComments count=6, children=['ibrm4ww']>\n",
      "2022-08-08 14:34:57.979 | DEBUG    | TSLASentimentAnalyzer.scraper:get_comment_forest:45 - [{'comment': 'RemindMe! 3 years \"Did Tesla solve driver-less FSD?\"', 'title': 'Long-running Thread for Detailed Discussion', 'id': 'ibrm4ww', 'created_at': 1654802269, 'score': 1}, {'comment': 'I admire your optimism, too. :)', 'title': 'Long-running Thread for Detailed Discussion', 'id': 'ibrm8oe', 'created_at': 1654802316, 'score': 1}, {'comment': 'Ill read your comment as genuine and not mockery. Im not super bullish on this, and i am invested purely on vehicle production(and see FSD/Energy/etc as extra upside), but i am curious; what makes you certain that if anyone solves driver-less cars it WONT be Tesla. Sure, they are going for the holy grail of autonomy instead of a simpler problem like Waymo, but other than that, what makes you doubt Tesla?', 'title': 'Long-running Thread for Detailed Discussion', 'id': 'ibryvxw', 'created_at': 1654807739, 'score': 3}, {'comment': \"It's not mockery. I can't predict the future, and certainly other people are free to have different opinions and put different weights on the percentage chance of success.\\n\\nI do believe that the odds of Tesla solving FSD in a general case with its current sensor suite are virtually nil, but reasonable people are free to disagree.\\n\\nAs for why I believe that? It comes down to the resolution of the existing Tesla sensors being poor, combined with there being blind spots in the camera field of view, combined with the best AI companies in the world struggling with this problem even with state-of-the-art sensors, and it just straights me as extraordinarily unlikely that Tesla, who has been using mass market sensors as they have to be able to afford to put the sensors on a production vehicle, will solve this before the companies who are able to invest in bespoke solutions.\\n\\nThat's a huge and probably run-on sentence, but hopefully you get the gist.\", 'title': 'Long-running Thread for Detailed Discussion', 'id': 'ibsam0b', 'created_at': 1654813003, 'score': 2}, {'comment': 'Thanks for the response, cheers.', 'title': 'Long-running Thread for Detailed Discussion', 'id': 'ibu63ga', 'created_at': 1654854996, 'score': 2}, {'comment': 'RemindMe! 5 years', 'title': 'Long-running Thread for Detailed Discussion', 'id': 'ibufzgy', 'created_at': 1654862271, 'score': 1}]\n",
      "2022-08-08 14:34:57.981 | INFO     | TSLASentimentAnalyzer.scraper:get_comment_forest:44 - more comments\n",
      "2022-08-08 14:35:08.136 | DEBUG    | TSLASentimentAnalyzer.scraper:get_comment_forest:41 - <MoreComments count=5, children=['ieu02jl']>\n",
      "2022-08-08 14:35:08.138 | DEBUG    | TSLASentimentAnalyzer.scraper:get_comment_forest:45 - [{'comment': \"Really? Very interesting and I hadn't heard this before. I wonder if Chinese supplier is just making seats to Tesla spec or if there's a difference between MIC and Fremont seats. Now I want a deep dive!\", 'title': 'Long-running Thread for Detailed Discussion', 'id': 'ieu02jl', 'created_at': 1656951306, 'score': 1}, {'comment': \"Yea but don't ask me for a source, this was somewhere deep in a interview i guess. And maybe not even up to date, tesla moves too fast.\", 'title': 'Long-running Thread for Detailed Discussion', 'id': 'ieua0sj', 'created_at': 1656955420, 'score': 2}, {'comment': 'It might have been the munro interview with musk, I just watched that yesterday, and he did talk about building the seats in-house because of quality', 'title': 'Long-running Thread for Detailed Discussion', 'id': 'if8cwlm', 'created_at': 1657214837, 'score': 3}, {'comment': 'No worries, I appreciate the tip off and now I will keep my ears open to see if I hear anything else on it. Thanks!', 'title': 'Long-running Thread for Detailed Discussion', 'id': 'ieueqkx', 'created_at': 1656957417, 'score': 2}, {'comment': 'Years back there was a company that made seats for Tesla in house at Fremont and Tesla bought them up and completely brought the production/design in house. Was long time ago now, maybe 2013-14 or so?', 'title': 'Long-running Thread for Detailed Discussion', 'id': 'ihp6pdg', 'created_at': 1658832766, 'score': 2}]\n",
      "2022-08-08 14:35:08.139 | INFO     | TSLASentimentAnalyzer.scraper:get_comment_forest:44 - more comments\n",
      "2022-08-08 14:35:14.298 | DEBUG    | TSLASentimentAnalyzer.scraper:get_comment_forest:41 - <MoreComments count=3, children=['i7fy39u']>\n",
      "2022-08-08 14:35:14.299 | DEBUG    | TSLASentimentAnalyzer.scraper:get_comment_forest:45 - [{'comment': \"Been a TSLA investor for a long time.  Rolling over on social issues is not a solution.  Ignoring the harm of hate speech is not a solution.    It's one thing to proclaim a deep desire to support and help humanity, and quite another to go quiet when its inconvenient.   Appeasement doesn't work.  No, this weeks events in the USA make it clear the time for capitulation is over.\", 'title': 'Long-running Thread for Detailed Discussion', 'id': 'i7fy39u', 'created_at': 1651767644, 'score': 0}, {'comment': 'Hate speech is free speech. Like it or not. If you dislike Twitter then move to Facebook.', 'title': 'Long-running Thread for Detailed Discussion', 'id': 'i7gb61c', 'created_at': 1651773134, 'score': 0}, {'comment': \"Walked right into that one, no?  Where, precisely, was the government impeding anyone's speech on Twitter?  No government censorship then it ain't a free speech matter.  It's a consequence-of-being-an-asshat-matter, just as it is for those thinking hate speech is permissible.  See also: paradox of tolerance.\", 'title': 'Long-running Thread for Detailed Discussion', 'id': 'i7h9jhn', 'created_at': 1651787094, 'score': 1}]\n",
      "2022-08-08 14:35:14.301 | INFO     | TSLASentimentAnalyzer.scraper:get_comment_forest:44 - more comments\n",
      "2022-08-08 14:35:17.945 | DEBUG    | TSLASentimentAnalyzer.scraper:get_comment_forest:41 - <MoreComments count=1, children=['iihaphj']>\n",
      "2022-08-08 14:35:17.947 | DEBUG    | TSLASentimentAnalyzer.scraper:get_comment_forest:45 - [{'comment': \"> Source? First I've heard of this.\\n\\nSorry, there was a link someone posted back when Cybertruk originally revealed. But i don't remember where it is anymore.\", 'title': 'Long-running Thread for Detailed Discussion', 'id': 'iihaphj', 'created_at': 1659337654, 'score': 1}]\n",
      "2022-08-08 14:35:17.949 | INFO     | TSLASentimentAnalyzer.scraper:get_comment_forest:44 - more comments\n",
      "2022-08-08 14:35:20.093 | DEBUG    | TSLASentimentAnalyzer.scraper:get_comment_forest:41 - <MoreComments count=4, children=['i8zd27n']>\n",
      "2022-08-08 14:35:20.094 | DEBUG    | TSLASentimentAnalyzer.scraper:get_comment_forest:45 - [{'comment': 'The average income in China is like $8500/year. In India it’s like $2k. Those two countries comprise a huge portion of the worlds population. They are not going to lease a Tesla', 'title': 'Long-running Thread for Detailed Discussion', 'id': 'i8zd27n', 'created_at': 1652814797, 'score': 0}, {'comment': \"I disagree entirely with the premise of this comment: We're comparing like for like, and assuming better TCO. Those people wouldn't be buying a TM3/TMY-equivalent combustion vehicle either. \\n\\nIf we're stretching the conversation that far, you might as well add in all fish who can't drive a TM3 under the ocean, too.\", 'title': 'Long-running Thread for Detailed Discussion', 'id': 'i8zj7d7', 'created_at': 1652817316, 'score': 4}, {'comment': 'Yes you are right about that. I guess what I was getting at is that that Tesla currently competes in a niche luxury market segment for automobiles.', 'title': 'Long-running Thread for Detailed Discussion', 'id': 'i8zko83', 'created_at': 1652817924, 'score': 1}, {'comment': \"I agree. However, they are not inherently stuck in that niche, and it's TCO you want to base your analysis on, not retail sale price.\", 'title': 'Long-running Thread for Detailed Discussion', 'id': 'i8zljm8', 'created_at': 1652818287, 'score': 4}]\n",
      "2022-08-08 14:35:20.095 | INFO     | TSLASentimentAnalyzer.scraper:get_comment_forest:44 - more comments\n",
      "2022-08-08 14:35:21.725 | DEBUG    | TSLASentimentAnalyzer.scraper:get_comment_forest:41 - <MoreComments count=1, children=['i8ed87n']>\n",
      "2022-08-08 14:35:21.726 | DEBUG    | TSLASentimentAnalyzer.scraper:get_comment_forest:45 - [{'comment': 'Yep, agreed.', 'title': 'Long-running Thread for Detailed Discussion', 'id': 'i8ed87n', 'created_at': 1652406930, 'score': 0}]\n",
      "2022-08-08 14:35:21.727 | INFO     | TSLASentimentAnalyzer.scraper:get_comment_forest:44 - more comments\n",
      "2022-08-08 14:35:22.861 | DEBUG    | TSLASentimentAnalyzer.scraper:get_comment_forest:41 - <MoreComments count=1, children=['i9laoge']>\n",
      "2022-08-08 14:35:22.862 | DEBUG    | TSLASentimentAnalyzer.scraper:get_comment_forest:45 - [{'comment': 'If he knew recession is coming, why is he buying twitter at 50% over its value screwing tsla investors in the process, \\nAs a CEO where some damn fiduciary responsibility to tesla’s shareholders and stop dhooting the company into their own legs with makinh fun of libtards and dems, hes killing off the demand and for every damn idiotic tweet he looses potential buyers, \\n\\nAnd dont tell me musk is musk, he was never this politically polarizing ,\\n\\nSomeone get his off the board of directors and maybe get him iff the platform and let him go back with playing with rockets and building cars which is his strong point', 'title': 'Long-running Thread for Detailed Discussion', 'id': 'i9laoge', 'created_at': 1653243546, 'score': 0}]\n",
      "2022-08-08 14:35:22.864 | INFO     | TSLASentimentAnalyzer.scraper:get_comment_forest:44 - more comments\n",
      "2022-08-08 14:35:24.229 | DEBUG    | TSLASentimentAnalyzer.scraper:get_comment_forest:41 - <MoreComments count=0, children=[]>\n",
      "2022-08-08 14:35:24.230 | DEBUG    | TSLASentimentAnalyzer.scraper:get_comment_forest:45 - [{'comment': \"Tesla is not just competing with other electric cars.\\n\\nThey are competing with all cars, [as you yourself just said.](https://www.reddit.com/r/teslainvestorsclub/comments/t0qeyu/comment/i89866n/?utm_source=reddit&utm_medium=web2x&context=3)\\n\\nIn fact, a friend of mine recently cross-shopped a TM3 and a AMG C43, and ended up with the C43 — which he's quite proud of.\", 'title': 'Long-running Thread for Detailed Discussion', 'id': 'i8bpatw', 'created_at': 1652367074, 'score': 2}]\n",
      "2022-08-08 14:35:24.231 | INFO     | TSLASentimentAnalyzer.scraper:get_comment_forest:44 - more comments\n",
      "2022-08-08 14:35:25.454 | DEBUG    | TSLASentimentAnalyzer.scraper:get_comment_forest:41 - <MoreComments count=0, children=[]>\n",
      "2022-08-08 14:35:25.455 | DEBUG    | TSLASentimentAnalyzer.scraper:get_comment_forest:45 - [{'comment': 'Or what percentage of incidents are known by Tesla to be caused by doing everything they can to minimize false negatives, something which could change when they get to a certain confidence level.\\n\\nBetter some uncomfortable rides than a string of dead kids.', 'title': 'Long-running Thread for Detailed Discussion', 'id': 'hyyy6dy', 'created_at': 1646173357, 'score': 3}]\n",
      "2022-08-08 14:35:25.456 | INFO     | TSLASentimentAnalyzer.scraper:get_comment_forest:44 - more comments\n",
      "2022-08-08 14:35:26.234 | DEBUG    | TSLASentimentAnalyzer.scraper:get_comment_forest:41 - <MoreComments count=0, children=[]>\n",
      "2022-08-08 14:35:26.236 | DEBUG    | TSLASentimentAnalyzer.scraper:get_comment_forest:45 - [{'comment': \"It's a investment forum, analysts are of financial nature in this sub. It's up to you to express yourself in a matter that we can understand. But I can tell you lack the maturity to accept you might have been less than absolute perfect alpha chad. That's why I surrender, you win!\", 'title': 'Long-running Thread for Detailed Discussion', 'id': 'i00lrkq', 'created_at': 1646857429, 'score': 0}]\n",
      "2022-08-08 14:35:26.237 | INFO     | TSLASentimentAnalyzer.scraper:get_comment_forest:44 - more comments\n",
      "2022-08-08 14:35:27.485 | DEBUG    | TSLASentimentAnalyzer.scraper:get_comment_forest:41 - <MoreComments count=0, children=[]>\n",
      "2022-08-08 14:35:27.487 | DEBUG    | TSLASentimentAnalyzer.scraper:get_comment_forest:45 - [{'comment': 'I will be messaging you in 3 years on [**2025-04-12 17:44:36 UTC**](http://www.wolframalpha.com/input/?i=2025-04-12%2017:44:36%20UTC%20To%20Local%20Time) to remind you of [**this link**](https://www.reddit.com/r/teslainvestorsclub/comments/t0qeyu/longrunning_thread_for_detailed_discussion/i4gfftu/?context=3)\\n\\n[**1 OTHERS CLICKED THIS LINK**](https://www.reddit.com/message/compose/?to=RemindMeBot&subject=Reminder&message=%5Bhttps%3A%2F%2Fwww.reddit.com%2Fr%2Fteslainvestorsclub%2Fcomments%2Ft0qeyu%2Flongrunning_thread_for_detailed_discussion%2Fi4gfftu%2F%5D%0A%0ARemindMe%21%202025-04-12%2017%3A44%3A36%20UTC) to send a PM to also be reminded and to reduce spam.\\n\\n^(Parent commenter can ) [^(delete this message to hide from others.)](https://www.reddit.com/message/compose/?to=RemindMeBot&subject=Delete%20Comment&message=Delete%21%20t0qeyu)\\n\\n*****\\n\\n|[^(Info)](https://www.reddit.com/r/RemindMeBot/comments/e1bko7/remindmebot_info_v21/)|[^(Custom)](https://www.reddit.com/message/compose/?to=RemindMeBot&subject=Reminder&message=%5BLink%20or%20message%20inside%20square%20brackets%5D%0A%0ARemindMe%21%20Time%20period%20here)|[^(Your Reminders)](https://www.reddit.com/message/compose/?to=RemindMeBot&subject=List%20Of%20Reminders&message=MyReminders%21)|[^(Feedback)](https://www.reddit.com/message/compose/?to=Watchful1&subject=RemindMeBot%20Feedback)|\\n|-|-|-|-|', 'title': 'Long-running Thread for Detailed Discussion', 'id': 'i4gfj70', 'created_at': 1649785510, 'score': 1}]\n",
      "2022-08-08 14:35:27.488 | INFO     | TSLASentimentAnalyzer.scraper:get_comment_forest:44 - more comments\n",
      "2022-08-08 14:35:28.219 | DEBUG    | TSLASentimentAnalyzer.scraper:get_comment_forest:41 - <MoreComments count=0, children=[]>\n",
      "2022-08-08 14:35:28.220 | DEBUG    | TSLASentimentAnalyzer.scraper:get_comment_forest:45 - [{'comment': 'Exactly, thesis is the same. Bitcoin from 2013 - 2017 taught me to be patient and to switch off emotions in investing :)', 'title': 'Long-running Thread for Detailed Discussion', 'id': 'iaja4kc', 'created_at': 1653911779, 'score': 1}]\n",
      "2022-08-08 14:35:28.221 | DEBUG    | TSLASentimentAnalyzer.scraper:get_comment_forest:41 - <praw.models.comment_forest.CommentForest object at 0x17a18cf40>\n",
      "2022-08-08 14:35:28.222 | INFO     | TSLASentimentAnalyzer.scraper:get_comment_forest:44 - more comments\n",
      "2022-08-08 14:35:28.223 | DEBUG    | TSLASentimentAnalyzer.scraper:get_comment_forest:41 - <MoreComments count=5, children=['ii1pbsy', 'hyrqfu3', 'i8fvzlu', 'ie4wi2u']>\n",
      "2022-08-08 14:35:28.224 | DEBUG    | TSLASentimentAnalyzer.scraper:get_comment_forest:45 - [{'comment': '[deleted]', 'title': 'Long-running Thread for Detailed Discussion', 'id': 'ie4wi2u', 'created_at': 1656468904, 'score': 1}, {'comment': 'Short answer: No one knows.\\n\\nLong answer: Buy and hold.', 'title': 'Long-running Thread for Detailed Discussion', 'id': 'ie4zavi', 'created_at': 1656470260, 'score': 9}]\n",
      "2022-08-08 14:35:28.225 | INFO     | TSLASentimentAnalyzer.scraper:get_comment_forest:44 - more comments\n",
      "2022-08-08 14:35:28.227 | DEBUG    | TSLASentimentAnalyzer.scraper:get_comment_forest:41 - <MoreComments count=1, children=['igxfxaq']>\n",
      "2022-08-08 14:35:28.228 | DEBUG    | TSLASentimentAnalyzer.scraper:get_comment_forest:45 - [{'comment': \"I really wish Elon would have clarified that more when this all first came out. There was a lot of negative sentiment. But if he was just referring to certain execs, that's much more understandable.\", 'title': 'Long-running Thread for Detailed Discussion', 'id': 'igxfxaq', 'created_at': 1658331306, 'score': 1}]\n",
      "2022-08-08 14:35:28.229 | INFO     | TSLASentimentAnalyzer.scraper:get_comment_forest:44 - more comments\n",
      "2022-08-08 14:35:28.230 | DEBUG    | TSLASentimentAnalyzer.scraper:get_comment_forest:41 - <MoreComments count=1, children=['iixftwk']>\n",
      "2022-08-08 14:35:28.231 | DEBUG    | TSLASentimentAnalyzer.scraper:get_comment_forest:45 - [{'comment': 'Energy storage and solar was once described by Elon as potentially growing larger than their vehicle business. Haven’t heard that in a while, but I still think the energy alone could be a trillion dollar business.', 'title': 'Long-running Thread for Detailed Discussion', 'id': 'iixftwk', 'created_at': 1659627658, 'score': 1}]\n",
      "2022-08-08 14:35:28.232 | INFO     | TSLASentimentAnalyzer.scraper:get_comment_forest:44 - more comments\n",
      "2022-08-08 14:35:28.233 | DEBUG    | TSLASentimentAnalyzer.scraper:get_comment_forest:41 - <MoreComments count=1, children=['ig3t837']>\n",
      "2022-08-08 14:35:28.234 | DEBUG    | TSLASentimentAnalyzer.scraper:get_comment_forest:45 - [{'comment': '>  a potential future scenario that most people are not considering when they think of Tesla?\\n\\nTesla goes into AGI and solves it in 2-3 years, massive economic and political turmoil results.', 'title': 'Long-running Thread for Detailed Discussion', 'id': 'ig3t837', 'created_at': 1657789619, 'score': 1}]\n",
      "2022-08-08 14:35:28.234 | INFO     | TSLASentimentAnalyzer.scraper:get_comment_forest:44 - more comments\n",
      "2022-08-08 14:35:28.235 | DEBUG    | TSLASentimentAnalyzer.scraper:get_comment_forest:41 - <MoreComments count=1, children=['icog1ii']>\n",
      "2022-08-08 14:35:28.236 | DEBUG    | TSLASentimentAnalyzer.scraper:get_comment_forest:45 - [{'comment': 'A better question to ask is why the stock market reached such clearly unsustainable levels. It all comes back to the actions of central banks pumping multiple asset bubbles since 2000.', 'title': 'Long-running Thread for Detailed Discussion', 'id': 'icog1ii', 'created_at': 1655445900, 'score': 1}]\n",
      "2022-08-08 14:35:28.236 | INFO     | TSLASentimentAnalyzer.scraper:get_comment_forest:44 - more comments\n",
      "2022-08-08 14:35:28.237 | DEBUG    | TSLASentimentAnalyzer.scraper:get_comment_forest:41 - <MoreComments count=1, children=['idtu2bb']>\n",
      "2022-08-08 14:35:28.237 | DEBUG    | TSLASentimentAnalyzer.scraper:get_comment_forest:45 - [{'comment': 'Peoples best guess the 279 mile ones have 4680 and the 330 mile ones have 2170.', 'title': 'Long-running Thread for Detailed Discussion', 'id': 'idtu2bb', 'created_at': 1656264621, 'score': 1}]\n",
      "2022-08-08 14:35:28.238 | INFO     | TSLASentimentAnalyzer.scraper:get_comment_forest:44 - more comments\n",
      "2022-08-08 14:35:28.238 | DEBUG    | TSLASentimentAnalyzer.scraper:get_comment_forest:41 - <MoreComments count=1, children=['iih053s']>\n",
      "2022-08-08 14:35:28.239 | DEBUG    | TSLASentimentAnalyzer.scraper:get_comment_forest:45 - [{'comment': 'Brompton!', 'title': 'Long-running Thread for Detailed Discussion', 'id': 'iih053s', 'created_at': 1659329844, 'score': 1}]\n",
      "2022-08-08 14:35:28.239 | INFO     | TSLASentimentAnalyzer.scraper:get_comment_forest:44 - more comments\n",
      "2022-08-08 14:35:28.240 | DEBUG    | TSLASentimentAnalyzer.scraper:get_comment_forest:41 - <MoreComments count=8, children=['i3er2ky']>\n",
      "2022-08-08 14:35:28.241 | DEBUG    | TSLASentimentAnalyzer.scraper:get_comment_forest:45 - [{'comment': 'Shanghai is part / material constrained, not capacity constrained.  Therefore they can just run a faster run rate to make up for the down time.\\n\\nThe shutdown won’t affect Q2 production at all.  Sorry but you’re wrong and your worry is unfounded.\\n\\nEdit:  I just saw you would be surprised if they get more than 1 week of production from the Entire quarter???  That’s different.  You just crazy', 'title': 'Long-running Thread for Detailed Discussion', 'id': 'i3er2ky', 'created_at': 1649109384, 'score': 0}, {'comment': \"That's ridiculous, doesn't matter how often you repeat it. \\n\\n2 weeks of production can't be made up, impossible. Maybe they can make up some but not 2 weeks.\", 'title': 'Long-running Thread for Detailed Discussion', 'id': 'i3qexz8', 'created_at': 1649314633, 'score': 2}, {'comment': 'If you’re running at 75% capacity and you miss 2 weeks you can then run at 100% capacity for a while and make it up.\\n\\nNot too difficult of a concept for most to understand.', 'title': 'Long-running Thread for Detailed Discussion', 'id': 'i3smoj0', 'created_at': 1649356401, 'score': -1}, {'comment': \"This is how you imagine Tesla Factories to run? \\n\\nLet me ask you, why didn't they run on 100% before?\\nAnd after a harsh lockdown of 2 weeks they just decided to now do 100% instead of 75%? All required parts and people are magically there.\\n\\nYou have an oversimplified view of how they operate.\", 'title': 'Long-running Thread for Detailed Discussion', 'id': 'i3sr1zo', 'created_at': 1649358028, 'score': 3}, {'comment': 'They weren’t operating at 100% before because of part and material shortages (didn’t we already cover this??  You should know that!)\\n\\nDuring the down time, Tesla can stockpile the parts that were in shortage.  This will allow them to run at a higher run rate when they reopen. \\n\\nIt’s not a simplified view - it’s reality', 'title': 'Long-running Thread for Detailed Discussion', 'id': 'i3srs3r', 'created_at': 1649358301, 'score': 0}, {'comment': 'Stockpiling during the lockdown??? Dude, this whole city is in lockdown. There are no trucks, no ships, no trains moving and people locked in their homes.', 'title': 'Long-running Thread for Detailed Discussion', 'id': 'i3sswuy', 'created_at': 1649358730, 'score': 7}, {'comment': 'Yea but those parts and materials are still being produced elsewhere.  The whole world hasn’t stopped.  You have to have a longer frame of time.  The quarter just started.', 'title': 'Long-running Thread for Detailed Discussion', 'id': 'i3st80k', 'created_at': 1649358850, 'score': 0}, {'comment': \">Yea but those parts and materials are still being produced elsewhere. \\n\\nNo, they aren't. Tesla production in Shanghai is localized, most of the parts are being produced nearby.\", 'title': 'Long-running Thread for Detailed Discussion', 'id': 'i4290wr', 'created_at': 1649527286, 'score': 3}]\n",
      "2022-08-08 14:35:28.241 | INFO     | TSLASentimentAnalyzer.scraper:get_comment_forest:44 - more comments\n",
      "2022-08-08 14:35:28.242 | DEBUG    | TSLASentimentAnalyzer.scraper:get_comment_forest:41 - <MoreComments count=2, children=['ide8wd6']>\n",
      "2022-08-08 14:35:28.243 | DEBUG    | TSLASentimentAnalyzer.scraper:get_comment_forest:45 - [{'comment': 'Earliest delivery is still October though if you order now.', 'title': 'Long-running Thread for Detailed Discussion', 'id': 'ide8wd6', 'created_at': 1655960123, 'score': 1}, {'comment': 'Sure but good to at least see movement on the deliveries in action from Berlin', 'title': 'Long-running Thread for Detailed Discussion', 'id': 'idh168y', 'created_at': 1656014843, 'score': 2}]\n",
      "2022-08-08 14:35:28.243 | INFO     | TSLASentimentAnalyzer.scraper:get_comment_forest:44 - more comments\n",
      "2022-08-08 14:35:28.244 | DEBUG    | TSLASentimentAnalyzer.scraper:get_comment_forest:41 - <MoreComments count=1, children=['iih09pp']>\n",
      "2022-08-08 14:35:28.245 | DEBUG    | TSLASentimentAnalyzer.scraper:get_comment_forest:45 - [{'comment': 'This was the Andrew Yang future', 'title': 'Long-running Thread for Detailed Discussion', 'id': 'iih09pp', 'created_at': 1659329929, 'score': 1}]\n",
      "2022-08-08 14:35:28.245 | INFO     | TSLASentimentAnalyzer.scraper:get_comment_forest:44 - more comments\n",
      "2022-08-08 14:35:28.246 | DEBUG    | TSLASentimentAnalyzer.scraper:get_comment_forest:41 - <MoreComments count=3, children=['ibv2pbx']>\n",
      "2022-08-08 14:35:28.247 | DEBUG    | TSLASentimentAnalyzer.scraper:get_comment_forest:45 - [{'comment': 'Thanks for the info, I find it hard to find any new info about Dojo and maybe this is why.  When did he say this?', 'title': 'Long-running Thread for Detailed Discussion', 'id': 'ibv2pbx', 'created_at': 1654873445, 'score': 1}, {'comment': \"I can't remember where exactly. I wanna say it was at least 3 if not 6+ months ago. \\n\\nI'm still hopeful it will offer some value, but I'm not using it as  a factor in my stock price estimate. \\n\\nThe R&D money for it I imagine is largely spent, so I don't think it will be a financial drag in any way, shape or form. The company has probably learnt a fair bit which may assist with future chip design programmes. \\n\\nBut I've stripped any AWS type service, or cost savings from the programme.\", 'title': 'Long-running Thread for Detailed Discussion', 'id': 'ibv3mw0', 'created_at': 1654873845, 'score': 3}, {'comment': 'Honestly difficult for them to make any kind of AWS-like service work at this point, with Google throwing exaflop-class TPU v4 pods and a massive amount of developer momentum around.', 'title': 'Long-running Thread for Detailed Discussion', 'id': 'ibwng0j', 'created_at': 1654898239, 'score': 2}]\n",
      "2022-08-08 14:35:28.247 | INFO     | TSLASentimentAnalyzer.scraper:get_comment_forest:44 - more comments\n",
      "2022-08-08 14:35:28.248 | DEBUG    | TSLASentimentAnalyzer.scraper:get_comment_forest:41 - <MoreComments count=5, children=['icb287a']>\n",
      "2022-08-08 14:35:28.248 | DEBUG    | TSLASentimentAnalyzer.scraper:get_comment_forest:45 - [{'comment': 'I thought Elon said that DOJO would speed up the development of FSD?', 'title': 'Long-running Thread for Detailed Discussion', 'id': 'icb287a', 'created_at': 1655195089, 'score': 1}, {'comment': \"Yes, in the long term ONLY IF they get it working significantly better than the nvidia cluster.\\n\\nThat's not going to happen in a hurry. \\n\\nEven when they have validated that the chips work as intended - there is so much software/hardware infrastructure around the whoal thing - it's going to take time. \\n\\nAnd if they solve it - then they can speed up FSD training.\", 'title': 'Long-running Thread for Detailed Discussion', 'id': 'icb3m7y', 'created_at': 1655196378, 'score': 3}, {'comment': 'So are we talking months or years?  Thanks for the info btw.', 'title': 'Long-running Thread for Detailed Discussion', 'id': 'icb4dui', 'created_at': 1655197101, 'score': 2}, {'comment': \"Years. \\n\\nAnd probably they won't build a training cluster with the chip they showed off at AI day - but the next iteration instead. \\nOnce they get closer to getting everything together the next chip iteration is probably finished already.\\n\\nI don't have an inside, these are educated guesses.\", 'title': 'Long-running Thread for Detailed Discussion', 'id': 'icb59li', 'created_at': 1655197906, 'score': 2}, {'comment': \"That can't be right, that would mean there is no way for them to have a million robotaxis on the road by the end of 2020.\", 'title': 'Long-running Thread for Detailed Discussion', 'id': 'icbmmwu', 'created_at': 1655210589, 'score': 2}]\n",
      "2022-08-08 14:35:28.249 | INFO     | TSLASentimentAnalyzer.scraper:get_comment_forest:44 - more comments\n",
      "2022-08-08 14:35:28.250 | DEBUG    | TSLASentimentAnalyzer.scraper:get_comment_forest:41 - <MoreComments count=1, children=['iirqwat']>\n",
      "2022-08-08 14:35:28.250 | DEBUG    | TSLASentimentAnalyzer.scraper:get_comment_forest:45 - [{'comment': 'I guess they would wait for another share price rally after Q3/Q4 earnings call.', 'title': 'Long-running Thread for Detailed Discussion', 'id': 'iirqwat', 'created_at': 1659527423, 'score': 1}]\n",
      "2022-08-08 14:35:28.251 | INFO     | TSLASentimentAnalyzer.scraper:get_comment_forest:44 - more comments\n",
      "2022-08-08 14:35:28.252 | DEBUG    | TSLASentimentAnalyzer.scraper:get_comment_forest:41 - <MoreComments count=1, children=['ic2vk99']>\n",
      "2022-08-08 14:35:28.255 | DEBUG    | TSLASentimentAnalyzer.scraper:get_comment_forest:45 - [{'comment': 'Yep', 'title': 'Long-running Thread for Detailed Discussion', 'id': 'ic2vk99', 'created_at': 1655035776, 'score': 1}]\n",
      "2022-08-08 14:35:28.258 | INFO     | TSLASentimentAnalyzer.scraper:get_comment_forest:44 - more comments\n",
      "2022-08-08 14:35:28.259 | DEBUG    | TSLASentimentAnalyzer.scraper:get_comment_forest:41 - <MoreComments count=6, children=['ibrm4ww']>\n",
      "2022-08-08 14:35:28.260 | DEBUG    | TSLASentimentAnalyzer.scraper:get_comment_forest:45 - [{'comment': 'RemindMe! 3 years \"Did Tesla solve driver-less FSD?\"', 'title': 'Long-running Thread for Detailed Discussion', 'id': 'ibrm4ww', 'created_at': 1654802269, 'score': 1}, {'comment': 'I admire your optimism, too. :)', 'title': 'Long-running Thread for Detailed Discussion', 'id': 'ibrm8oe', 'created_at': 1654802316, 'score': 1}, {'comment': 'Ill read your comment as genuine and not mockery. Im not super bullish on this, and i am invested purely on vehicle production(and see FSD/Energy/etc as extra upside), but i am curious; what makes you certain that if anyone solves driver-less cars it WONT be Tesla. Sure, they are going for the holy grail of autonomy instead of a simpler problem like Waymo, but other than that, what makes you doubt Tesla?', 'title': 'Long-running Thread for Detailed Discussion', 'id': 'ibryvxw', 'created_at': 1654807739, 'score': 3}, {'comment': \"It's not mockery. I can't predict the future, and certainly other people are free to have different opinions and put different weights on the percentage chance of success.\\n\\nI do believe that the odds of Tesla solving FSD in a general case with its current sensor suite are virtually nil, but reasonable people are free to disagree.\\n\\nAs for why I believe that? It comes down to the resolution of the existing Tesla sensors being poor, combined with there being blind spots in the camera field of view, combined with the best AI companies in the world struggling with this problem even with state-of-the-art sensors, and it just straights me as extraordinarily unlikely that Tesla, who has been using mass market sensors as they have to be able to afford to put the sensors on a production vehicle, will solve this before the companies who are able to invest in bespoke solutions.\\n\\nThat's a huge and probably run-on sentence, but hopefully you get the gist.\", 'title': 'Long-running Thread for Detailed Discussion', 'id': 'ibsam0b', 'created_at': 1654813003, 'score': 2}, {'comment': 'Thanks for the response, cheers.', 'title': 'Long-running Thread for Detailed Discussion', 'id': 'ibu63ga', 'created_at': 1654854996, 'score': 2}, {'comment': 'RemindMe! 5 years', 'title': 'Long-running Thread for Detailed Discussion', 'id': 'ibufzgy', 'created_at': 1654862271, 'score': 1}]\n",
      "2022-08-08 14:35:28.261 | INFO     | TSLASentimentAnalyzer.scraper:get_comment_forest:44 - more comments\n",
      "2022-08-08 14:35:28.263 | DEBUG    | TSLASentimentAnalyzer.scraper:get_comment_forest:41 - <MoreComments count=5, children=['ieu02jl']>\n",
      "2022-08-08 14:35:28.264 | DEBUG    | TSLASentimentAnalyzer.scraper:get_comment_forest:45 - [{'comment': \"Really? Very interesting and I hadn't heard this before. I wonder if Chinese supplier is just making seats to Tesla spec or if there's a difference between MIC and Fremont seats. Now I want a deep dive!\", 'title': 'Long-running Thread for Detailed Discussion', 'id': 'ieu02jl', 'created_at': 1656951306, 'score': 1}, {'comment': \"Yea but don't ask me for a source, this was somewhere deep in a interview i guess. And maybe not even up to date, tesla moves too fast.\", 'title': 'Long-running Thread for Detailed Discussion', 'id': 'ieua0sj', 'created_at': 1656955420, 'score': 2}, {'comment': 'It might have been the munro interview with musk, I just watched that yesterday, and he did talk about building the seats in-house because of quality', 'title': 'Long-running Thread for Detailed Discussion', 'id': 'if8cwlm', 'created_at': 1657214837, 'score': 3}, {'comment': 'No worries, I appreciate the tip off and now I will keep my ears open to see if I hear anything else on it. Thanks!', 'title': 'Long-running Thread for Detailed Discussion', 'id': 'ieueqkx', 'created_at': 1656957417, 'score': 2}, {'comment': 'Years back there was a company that made seats for Tesla in house at Fremont and Tesla bought them up and completely brought the production/design in house. Was long time ago now, maybe 2013-14 or so?', 'title': 'Long-running Thread for Detailed Discussion', 'id': 'ihp6pdg', 'created_at': 1658832766, 'score': 2}]\n",
      "2022-08-08 14:35:28.265 | INFO     | TSLASentimentAnalyzer.scraper:get_comment_forest:44 - more comments\n",
      "2022-08-08 14:35:28.267 | DEBUG    | TSLASentimentAnalyzer.scraper:get_comment_forest:41 - <MoreComments count=3, children=['i7fy39u']>\n",
      "2022-08-08 14:35:28.281 | DEBUG    | TSLASentimentAnalyzer.scraper:get_comment_forest:45 - [{'comment': \"Been a TSLA investor for a long time.  Rolling over on social issues is not a solution.  Ignoring the harm of hate speech is not a solution.    It's one thing to proclaim a deep desire to support and help humanity, and quite another to go quiet when its inconvenient.   Appeasement doesn't work.  No, this weeks events in the USA make it clear the time for capitulation is over.\", 'title': 'Long-running Thread for Detailed Discussion', 'id': 'i7fy39u', 'created_at': 1651767644, 'score': 0}, {'comment': 'Hate speech is free speech. Like it or not. If you dislike Twitter then move to Facebook.', 'title': 'Long-running Thread for Detailed Discussion', 'id': 'i7gb61c', 'created_at': 1651773134, 'score': 0}, {'comment': \"Walked right into that one, no?  Where, precisely, was the government impeding anyone's speech on Twitter?  No government censorship then it ain't a free speech matter.  It's a consequence-of-being-an-asshat-matter, just as it is for those thinking hate speech is permissible.  See also: paradox of tolerance.\", 'title': 'Long-running Thread for Detailed Discussion', 'id': 'i7h9jhn', 'created_at': 1651787094, 'score': 1}]\n",
      "2022-08-08 14:35:28.284 | INFO     | TSLASentimentAnalyzer.scraper:get_comment_forest:44 - more comments\n",
      "2022-08-08 14:35:28.286 | DEBUG    | TSLASentimentAnalyzer.scraper:get_comment_forest:41 - <MoreComments count=1, children=['iihaphj']>\n",
      "2022-08-08 14:35:28.286 | DEBUG    | TSLASentimentAnalyzer.scraper:get_comment_forest:45 - [{'comment': \"> Source? First I've heard of this.\\n\\nSorry, there was a link someone posted back when Cybertruk originally revealed. But i don't remember where it is anymore.\", 'title': 'Long-running Thread for Detailed Discussion', 'id': 'iihaphj', 'created_at': 1659337654, 'score': 1}]\n",
      "2022-08-08 14:35:28.287 | INFO     | TSLASentimentAnalyzer.scraper:get_comment_forest:44 - more comments\n",
      "2022-08-08 14:35:28.288 | DEBUG    | TSLASentimentAnalyzer.scraper:get_comment_forest:41 - <MoreComments count=4, children=['i8zd27n']>\n",
      "2022-08-08 14:35:28.290 | DEBUG    | TSLASentimentAnalyzer.scraper:get_comment_forest:45 - [{'comment': 'The average income in China is like $8500/year. In India it’s like $2k. Those two countries comprise a huge portion of the worlds population. They are not going to lease a Tesla', 'title': 'Long-running Thread for Detailed Discussion', 'id': 'i8zd27n', 'created_at': 1652814797, 'score': 0}, {'comment': \"I disagree entirely with the premise of this comment: We're comparing like for like, and assuming better TCO. Those people wouldn't be buying a TM3/TMY-equivalent combustion vehicle either. \\n\\nIf we're stretching the conversation that far, you might as well add in all fish who can't drive a TM3 under the ocean, too.\", 'title': 'Long-running Thread for Detailed Discussion', 'id': 'i8zj7d7', 'created_at': 1652817316, 'score': 4}, {'comment': 'Yes you are right about that. I guess what I was getting at is that that Tesla currently competes in a niche luxury market segment for automobiles.', 'title': 'Long-running Thread for Detailed Discussion', 'id': 'i8zko83', 'created_at': 1652817924, 'score': 1}, {'comment': \"I agree. However, they are not inherently stuck in that niche, and it's TCO you want to base your analysis on, not retail sale price.\", 'title': 'Long-running Thread for Detailed Discussion', 'id': 'i8zljm8', 'created_at': 1652818287, 'score': 4}]\n",
      "2022-08-08 14:35:28.291 | INFO     | TSLASentimentAnalyzer.scraper:get_comment_forest:44 - more comments\n",
      "2022-08-08 14:35:28.292 | DEBUG    | TSLASentimentAnalyzer.scraper:get_comment_forest:41 - <MoreComments count=1, children=['i8ed87n']>\n",
      "2022-08-08 14:35:28.294 | DEBUG    | TSLASentimentAnalyzer.scraper:get_comment_forest:45 - [{'comment': 'Yep, agreed.', 'title': 'Long-running Thread for Detailed Discussion', 'id': 'i8ed87n', 'created_at': 1652406930, 'score': 0}]\n",
      "2022-08-08 14:35:28.296 | INFO     | TSLASentimentAnalyzer.scraper:get_comment_forest:44 - more comments\n",
      "2022-08-08 14:35:28.296 | DEBUG    | TSLASentimentAnalyzer.scraper:get_comment_forest:41 - <MoreComments count=1, children=['i9laoge']>\n",
      "2022-08-08 14:35:28.297 | DEBUG    | TSLASentimentAnalyzer.scraper:get_comment_forest:45 - [{'comment': 'If he knew recession is coming, why is he buying twitter at 50% over its value screwing tsla investors in the process, \\nAs a CEO where some damn fiduciary responsibility to tesla’s shareholders and stop dhooting the company into their own legs with makinh fun of libtards and dems, hes killing off the demand and for every damn idiotic tweet he looses potential buyers, \\n\\nAnd dont tell me musk is musk, he was never this politically polarizing ,\\n\\nSomeone get his off the board of directors and maybe get him iff the platform and let him go back with playing with rockets and building cars which is his strong point', 'title': 'Long-running Thread for Detailed Discussion', 'id': 'i9laoge', 'created_at': 1653243546, 'score': 0}]\n",
      "2022-08-08 14:35:28.298 | INFO     | TSLASentimentAnalyzer.scraper:get_comment_forest:44 - more comments\n",
      "2022-08-08 14:35:28.299 | DEBUG    | TSLASentimentAnalyzer.scraper:get_comment_forest:41 - <MoreComments count=0, children=[]>\n",
      "2022-08-08 14:35:28.299 | DEBUG    | TSLASentimentAnalyzer.scraper:get_comment_forest:45 - [{'comment': \"Tesla is not just competing with other electric cars.\\n\\nThey are competing with all cars, [as you yourself just said.](https://www.reddit.com/r/teslainvestorsclub/comments/t0qeyu/comment/i89866n/?utm_source=reddit&utm_medium=web2x&context=3)\\n\\nIn fact, a friend of mine recently cross-shopped a TM3 and a AMG C43, and ended up with the C43 — which he's quite proud of.\", 'title': 'Long-running Thread for Detailed Discussion', 'id': 'i8bpatw', 'created_at': 1652367074, 'score': 2}]\n",
      "2022-08-08 14:35:28.300 | INFO     | TSLASentimentAnalyzer.scraper:get_comment_forest:44 - more comments\n",
      "2022-08-08 14:35:28.301 | DEBUG    | TSLASentimentAnalyzer.scraper:get_comment_forest:41 - <MoreComments count=0, children=[]>\n",
      "2022-08-08 14:35:28.302 | DEBUG    | TSLASentimentAnalyzer.scraper:get_comment_forest:45 - [{'comment': 'Or what percentage of incidents are known by Tesla to be caused by doing everything they can to minimize false negatives, something which could change when they get to a certain confidence level.\\n\\nBetter some uncomfortable rides than a string of dead kids.', 'title': 'Long-running Thread for Detailed Discussion', 'id': 'hyyy6dy', 'created_at': 1646173357, 'score': 3}]\n",
      "2022-08-08 14:35:28.303 | INFO     | TSLASentimentAnalyzer.scraper:get_comment_forest:44 - more comments\n",
      "2022-08-08 14:35:28.307 | DEBUG    | TSLASentimentAnalyzer.scraper:get_comment_forest:41 - <MoreComments count=0, children=[]>\n",
      "2022-08-08 14:35:28.308 | DEBUG    | TSLASentimentAnalyzer.scraper:get_comment_forest:45 - [{'comment': \"It's a investment forum, analysts are of financial nature in this sub. It's up to you to express yourself in a matter that we can understand. But I can tell you lack the maturity to accept you might have been less than absolute perfect alpha chad. That's why I surrender, you win!\", 'title': 'Long-running Thread for Detailed Discussion', 'id': 'i00lrkq', 'created_at': 1646857429, 'score': 0}]\n",
      "2022-08-08 14:35:28.309 | INFO     | TSLASentimentAnalyzer.scraper:get_comment_forest:44 - more comments\n",
      "2022-08-08 14:35:28.311 | DEBUG    | TSLASentimentAnalyzer.scraper:get_comment_forest:41 - <MoreComments count=0, children=[]>\n",
      "2022-08-08 14:35:28.311 | DEBUG    | TSLASentimentAnalyzer.scraper:get_comment_forest:45 - [{'comment': 'I will be messaging you in 3 years on [**2025-04-12 17:44:36 UTC**](http://www.wolframalpha.com/input/?i=2025-04-12%2017:44:36%20UTC%20To%20Local%20Time) to remind you of [**this link**](https://www.reddit.com/r/teslainvestorsclub/comments/t0qeyu/longrunning_thread_for_detailed_discussion/i4gfftu/?context=3)\\n\\n[**1 OTHERS CLICKED THIS LINK**](https://www.reddit.com/message/compose/?to=RemindMeBot&subject=Reminder&message=%5Bhttps%3A%2F%2Fwww.reddit.com%2Fr%2Fteslainvestorsclub%2Fcomments%2Ft0qeyu%2Flongrunning_thread_for_detailed_discussion%2Fi4gfftu%2F%5D%0A%0ARemindMe%21%202025-04-12%2017%3A44%3A36%20UTC) to send a PM to also be reminded and to reduce spam.\\n\\n^(Parent commenter can ) [^(delete this message to hide from others.)](https://www.reddit.com/message/compose/?to=RemindMeBot&subject=Delete%20Comment&message=Delete%21%20t0qeyu)\\n\\n*****\\n\\n|[^(Info)](https://www.reddit.com/r/RemindMeBot/comments/e1bko7/remindmebot_info_v21/)|[^(Custom)](https://www.reddit.com/message/compose/?to=RemindMeBot&subject=Reminder&message=%5BLink%20or%20message%20inside%20square%20brackets%5D%0A%0ARemindMe%21%20Time%20period%20here)|[^(Your Reminders)](https://www.reddit.com/message/compose/?to=RemindMeBot&subject=List%20Of%20Reminders&message=MyReminders%21)|[^(Feedback)](https://www.reddit.com/message/compose/?to=Watchful1&subject=RemindMeBot%20Feedback)|\\n|-|-|-|-|', 'title': 'Long-running Thread for Detailed Discussion', 'id': 'i4gfj70', 'created_at': 1649785510, 'score': 1}]\n",
      "2022-08-08 14:35:28.312 | INFO     | TSLASentimentAnalyzer.scraper:get_comment_forest:44 - more comments\n",
      "2022-08-08 14:35:28.313 | DEBUG    | TSLASentimentAnalyzer.scraper:get_comment_forest:41 - <MoreComments count=0, children=[]>\n",
      "2022-08-08 14:35:28.313 | DEBUG    | TSLASentimentAnalyzer.scraper:get_comment_forest:45 - [{'comment': 'Exactly, thesis is the same. Bitcoin from 2013 - 2017 taught me to be patient and to switch off emotions in investing :)', 'title': 'Long-running Thread for Detailed Discussion', 'id': 'iaja4kc', 'created_at': 1653911779, 'score': 1}]\n",
      "2022-08-08 14:35:28.314 | DEBUG    | __main__:load_comments:19 - Long-running Thread for Detailed Discussion\n",
      "2022-08-08 14:35:29.362 | DEBUG    | TSLASentimentAnalyzer.scraper:get_comment_forest:41 - <praw.models.comment_forest.CommentForest object at 0x17abe0a30>\n",
      "2022-08-08 14:35:29.364 | DEBUG    | TSLASentimentAnalyzer.scraper:get_comment_forest:41 - <praw.models.comment_forest.CommentForest object at 0x17abe0a30>\n",
      "2022-08-08 14:35:29.365 | DEBUG    | __main__:load_comments:19 - Tesla boosts its legal team by hiring top securities lawyer\n",
      "2022-08-08 14:35:30.107 | DEBUG    | TSLASentimentAnalyzer.scraper:get_comment_forest:41 - <praw.models.comment_forest.CommentForest object at 0x17a0b5f70>\n",
      "2022-08-08 14:35:30.109 | DEBUG    | TSLASentimentAnalyzer.scraper:get_comment_forest:41 - <praw.models.comment_forest.CommentForest object at 0x17a0b5f70>\n",
      "2022-08-08 14:35:30.110 | DEBUG    | __main__:load_comments:19 - Indonesia says Tesla strikes $5 bln deal to buy nickel products - media\n",
      "2022-08-08 14:35:31.256 | DEBUG    | TSLASentimentAnalyzer.scraper:get_comment_forest:41 - <praw.models.comment_forest.CommentForest object at 0x17ac02250>\n",
      "2022-08-08 14:35:31.258 | DEBUG    | TSLASentimentAnalyzer.scraper:get_comment_forest:41 - <praw.models.comment_forest.CommentForest object at 0x17ac02250>\n",
      "2022-08-08 14:35:31.260 | DEBUG    | __main__:load_comments:19 - Canaccord reiterates Tesla as a purchase Canaccord raised its worth goal on Tesla to $881 per share from $815 and says the corporate is a “sustainability big.”\n",
      "2022-08-08 14:35:32.944 | DEBUG    | TSLASentimentAnalyzer.scraper:get_comment_forest:41 - <praw.models.comment_forest.CommentForest object at 0x17ac7f460>\n",
      "2022-08-08 14:35:32.945 | DEBUG    | TSLASentimentAnalyzer.scraper:get_comment_forest:41 - <praw.models.comment_forest.CommentForest object at 0x17ac7f460>\n",
      "2022-08-08 14:35:32.946 | DEBUG    | __main__:load_comments:19 - Senate Passed Inflation Reduction Act; what it means for EVs\n",
      "2022-08-08 14:35:33.589 | DEBUG    | TSLASentimentAnalyzer.scraper:get_comment_forest:41 - <praw.models.comment_forest.CommentForest object at 0x17ad5ba90>\n",
      "2022-08-08 14:35:33.591 | DEBUG    | TSLASentimentAnalyzer.scraper:get_comment_forest:41 - <praw.models.comment_forest.CommentForest object at 0x17ad5ba90>\n",
      "2022-08-08 14:35:33.593 | DEBUG    | __main__:load_comments:19 - Quality of New Energy Vehicles (NEVs) Made by China Startups Maintains Leading Edge, J.D. Power Finds\n",
      "2022-08-08 14:35:34.579 | DEBUG    | TSLASentimentAnalyzer.scraper:get_comment_forest:41 - <praw.models.comment_forest.CommentForest object at 0x17ac7f8b0>\n",
      "2022-08-08 14:35:34.580 | DEBUG    | TSLASentimentAnalyzer.scraper:get_comment_forest:41 - <praw.models.comment_forest.CommentForest object at 0x17ac7f8b0>\n",
      "2022-08-08 14:35:34.581 | DEBUG    | __main__:load_comments:19 - Comparing Model 3 and Mach-E production ramps\n",
      "2022-08-08 14:35:35.780 | DEBUG    | TSLASentimentAnalyzer.scraper:get_comment_forest:41 - <praw.models.comment_forest.CommentForest object at 0x17ad45310>\n",
      "2022-08-08 14:35:35.781 | DEBUG    | TSLASentimentAnalyzer.scraper:get_comment_forest:41 - <praw.models.comment_forest.CommentForest object at 0x17ad45310>\n",
      "2022-08-08 14:35:35.783 | DEBUG    | __main__:load_comments:19 - What does the US Inflation Reduction Act mean for the EV battery supply chain? | Benchmark\n",
      "2022-08-08 14:35:36.479 | DEBUG    | TSLASentimentAnalyzer.scraper:get_comment_forest:41 - <praw.models.comment_forest.CommentForest object at 0x17ad79eb0>\n",
      "2022-08-08 14:35:36.480 | DEBUG    | TSLASentimentAnalyzer.scraper:get_comment_forest:41 - <praw.models.comment_forest.CommentForest object at 0x17ad79eb0>\n",
      "2022-08-08 14:35:36.482 | DEBUG    | __main__:load_comments:19 - Next gigafactory might be in Canada\n",
      "2022-08-08 14:35:37.340 | DEBUG    | TSLASentimentAnalyzer.scraper:get_comment_forest:41 - <praw.models.comment_forest.CommentForest object at 0x17ad87be0>\n",
      "2022-08-08 14:35:37.342 | DEBUG    | TSLASentimentAnalyzer.scraper:get_comment_forest:41 - <praw.models.comment_forest.CommentForest object at 0x17ad87be0>\n",
      "2022-08-08 14:35:37.343 | DEBUG    | __main__:load_comments:19 - Dennis Huong - ARTEMIS is 100% electric.\n",
      "2022-08-08 14:35:38.821 | DEBUG    | TSLASentimentAnalyzer.scraper:get_comment_forest:41 - <praw.models.comment_forest.CommentForest object at 0x17ad88070>\n",
      "2022-08-08 14:35:38.823 | DEBUG    | TSLASentimentAnalyzer.scraper:get_comment_forest:41 - <praw.models.comment_forest.CommentForest object at 0x17ad88070>\n",
      "2022-08-08 14:35:38.825 | DEBUG    | __main__:load_comments:19 - Harris breaks 50-50 deadlock to advance landmark climate, tax, health bill\n",
      "2022-08-08 14:35:39.926 | DEBUG    | TSLASentimentAnalyzer.scraper:get_comment_forest:41 - <praw.models.comment_forest.CommentForest object at 0x17adc0ee0>\n",
      "2022-08-08 14:35:39.928 | DEBUG    | TSLASentimentAnalyzer.scraper:get_comment_forest:41 - <praw.models.comment_forest.CommentForest object at 0x17adc0ee0>\n",
      "2022-08-08 14:35:39.930 | DEBUG    | __main__:load_comments:19 - Elon Musk: FSD Beta 10.69 drops on 8/20\n",
      "2022-08-08 14:35:40.613 | DEBUG    | TSLASentimentAnalyzer.scraper:get_comment_forest:41 - <praw.models.comment_forest.CommentForest object at 0x17ab36250>\n",
      "2022-08-08 14:35:40.614 | DEBUG    | TSLASentimentAnalyzer.scraper:get_comment_forest:41 - <praw.models.comment_forest.CommentForest object at 0x17ab36250>\n",
      "2022-08-08 14:35:40.616 | DEBUG    | __main__:load_comments:19 - Kind of interesting that the first Tesla was built on a Lotus frame and now finally Lotus NYO releases an EV\n",
      "2022-08-08 14:35:41.293 | DEBUG    | TSLASentimentAnalyzer.scraper:get_comment_forest:41 - <praw.models.comment_forest.CommentForest object at 0x17adcfcd0>\n",
      "2022-08-08 14:35:41.295 | DEBUG    | TSLASentimentAnalyzer.scraper:get_comment_forest:41 - <praw.models.comment_forest.CommentForest object at 0x17adcfcd0>\n",
      "2022-08-08 14:35:41.297 | DEBUG    | __main__:load_comments:19 - Tesla Publishes the Patent, “Thermal system for a vehicle,” Improving on its HVAC System\n"
     ]
    }
   ],
   "source": [
    "# Scraping data from reddit\n",
    "dfReddit = load_comments(15, select_scrap_type(\"Hot\"))\n"
   ]
  },
  {
   "cell_type": "code",
   "execution_count": 8,
   "metadata": {},
   "outputs": [
    {
     "data": {
      "text/html": [
       "<div>\n",
       "<style scoped>\n",
       "    .dataframe tbody tr th:only-of-type {\n",
       "        vertical-align: middle;\n",
       "    }\n",
       "\n",
       "    .dataframe tbody tr th {\n",
       "        vertical-align: top;\n",
       "    }\n",
       "\n",
       "    .dataframe thead th {\n",
       "        text-align: right;\n",
       "    }\n",
       "</style>\n",
       "<table border=\"1\" class=\"dataframe\">\n",
       "  <thead>\n",
       "    <tr style=\"text-align: right;\">\n",
       "      <th></th>\n",
       "      <th>comment</th>\n",
       "      <th>title</th>\n",
       "      <th>id</th>\n",
       "      <th>created_at</th>\n",
       "      <th>score</th>\n",
       "    </tr>\n",
       "  </thead>\n",
       "  <tbody>\n",
       "    <tr>\n",
       "      <th>0</th>\n",
       "      <td>I just hit 26 shares today. This is a mileston...</td>\n",
       "      <td>Daily Thread - August 08, 2022</td>\n",
       "      <td>ijgjzag</td>\n",
       "      <td>1659976193</td>\n",
       "      <td>12</td>\n",
       "    </tr>\n",
       "    <tr>\n",
       "      <th>1</th>\n",
       "      <td>Giga Canada? https://www.teslarati.com/tesla-g...</td>\n",
       "      <td>Daily Thread - August 08, 2022</td>\n",
       "      <td>ijeylhp</td>\n",
       "      <td>1659944855</td>\n",
       "      <td>10</td>\n",
       "    </tr>\n",
       "    <tr>\n",
       "      <th>2</th>\n",
       "      <td>- EV credit bill reaction: “buy the news”.</td>\n",
       "      <td>Daily Thread - August 08, 2022</td>\n",
       "      <td>ijfw9ue</td>\n",
       "      <td>1659966686</td>\n",
       "      <td>8</td>\n",
       "    </tr>\n",
       "    <tr>\n",
       "      <th>3</th>\n",
       "      <td>Bought a few shares. Now I’ll have 200+ shares...</td>\n",
       "      <td>Daily Thread - August 08, 2022</td>\n",
       "      <td>ijg2rqi</td>\n",
       "      <td>1659969430</td>\n",
       "      <td>9</td>\n",
       "    </tr>\n",
       "    <tr>\n",
       "      <th>4</th>\n",
       "      <td>Tl0 up 23 Euros in early trading.  Hopefully a...</td>\n",
       "      <td>Daily Thread - August 08, 2022</td>\n",
       "      <td>ijez96o</td>\n",
       "      <td>1659945389</td>\n",
       "      <td>8</td>\n",
       "    </tr>\n",
       "  </tbody>\n",
       "</table>\n",
       "</div>"
      ],
      "text/plain": [
       "                                             comment  \\\n",
       "0  I just hit 26 shares today. This is a mileston...   \n",
       "1  Giga Canada? https://www.teslarati.com/tesla-g...   \n",
       "2         - EV credit bill reaction: “buy the news”.   \n",
       "3  Bought a few shares. Now I’ll have 200+ shares...   \n",
       "4  Tl0 up 23 Euros in early trading.  Hopefully a...   \n",
       "\n",
       "                            title       id  created_at  score  \n",
       "0  Daily Thread - August 08, 2022  ijgjzag  1659976193     12  \n",
       "1  Daily Thread - August 08, 2022  ijeylhp  1659944855     10  \n",
       "2  Daily Thread - August 08, 2022  ijfw9ue  1659966686      8  \n",
       "3  Daily Thread - August 08, 2022  ijg2rqi  1659969430      9  \n",
       "4  Daily Thread - August 08, 2022  ijez96o  1659945389      8  "
      ]
     },
     "execution_count": 8,
     "metadata": {},
     "output_type": "execute_result"
    }
   ],
   "source": [
    "dfReddit.head()"
   ]
  },
  {
   "cell_type": "markdown",
   "metadata": {},
   "source": [
    "Once we have our comments, let's use the [`pandas.Series.str.slice()`](https://pandas.pydata.org/docs/reference/api/pandas.Series.str.slice.html) method to ensure our data will play nicely with our model. (`bert` only supports up to a maximum of 512 tokens, so a range of `0` to `512` seems appropriate)"
   ]
  },
  {
   "cell_type": "code",
   "execution_count": 9,
   "metadata": {},
   "outputs": [],
   "source": [
    "# slice comments as bert supports only 512 tokens\n",
    "dfReddit['comment'] = dfReddit['comment'].str.slice(0,512)"
   ]
  },
  {
   "cell_type": "code",
   "execution_count": 10,
   "metadata": {},
   "outputs": [
    {
     "data": {
      "text/plain": [
       "0    I just hit 26 shares today. This is a mileston...\n",
       "1    Giga Canada? https://www.teslarati.com/tesla-g...\n",
       "2           - EV credit bill reaction: “buy the news”.\n",
       "3    Bought a few shares. Now I’ll have 200+ shares...\n",
       "4    Tl0 up 23 Euros in early trading.  Hopefully a...\n",
       "Name: comment, dtype: object"
      ]
     },
     "execution_count": 10,
     "metadata": {},
     "output_type": "execute_result"
    }
   ],
   "source": [
    "dfReddit['comment'].head()"
   ]
  },
  {
   "cell_type": "markdown",
   "metadata": {},
   "source": [
    "### Step 5: Analyze the Comments! 🔍\n"
   ]
  },
  {
   "cell_type": "markdown",
   "metadata": {},
   "source": [
    "We'll be using the `FourthBrain/bert_model_reddit_tsla` model (found [here](https://huggingface.co/FourthBrain/bert_model_reddit_tsla)), which is based off of the `distilbert-base-uncased` (found [here](https://huggingface.co/distilbert-base-uncased))\n",
    "\n",
    "We'll use this model in a `sentiment-analysis` pipeline! (read all about that [here](https://huggingface.co/docs/transformers/main_classes/pipelines#transformers.pipeline.example))"
   ]
  },
  {
   "cell_type": "code",
   "execution_count": 11,
   "metadata": {},
   "outputs": [
    {
     "data": {
      "application/vnd.jupyter.widget-view+json": {
       "model_id": "16977dda460947ae944bbe50b9b67de6",
       "version_major": 2,
       "version_minor": 0
      },
      "text/plain": [
       "Downloading:   0%|          | 0.00/615 [00:00<?, ?B/s]"
      ]
     },
     "metadata": {},
     "output_type": "display_data"
    },
    {
     "name": "stderr",
     "output_type": "stream",
     "text": [
      "2022-08-08 14:38:50.194942: I tensorflow/core/platform/cpu_feature_guard.cc:193] This TensorFlow binary is optimized with oneAPI Deep Neural Network Library (oneDNN) to use the following CPU instructions in performance-critical operations:  SSE4.1 SSE4.2 AVX AVX2 AVX512F AVX512_VNNI FMA\n",
      "To enable them in other operations, rebuild TensorFlow with the appropriate compiler flags.\n"
     ]
    },
    {
     "data": {
      "application/vnd.jupyter.widget-view+json": {
       "model_id": "827bdc8099f646499b783dad4fd00de5",
       "version_major": 2,
       "version_minor": 0
      },
      "text/plain": [
       "Downloading:   0%|          | 0.00/255M [00:00<?, ?B/s]"
      ]
     },
     "metadata": {},
     "output_type": "display_data"
    },
    {
     "data": {
      "application/vnd.jupyter.widget-view+json": {
       "model_id": "263144524566410d86bd61ceff6a9840",
       "version_major": 2,
       "version_minor": 0
      },
      "text/plain": [
       "Downloading:   0%|          | 0.00/360 [00:00<?, ?B/s]"
      ]
     },
     "metadata": {},
     "output_type": "display_data"
    },
    {
     "data": {
      "application/vnd.jupyter.widget-view+json": {
       "model_id": "1a75c047170e45c0a6614930542858da",
       "version_major": 2,
       "version_minor": 0
      },
      "text/plain": [
       "Downloading:   0%|          | 0.00/226k [00:00<?, ?B/s]"
      ]
     },
     "metadata": {},
     "output_type": "display_data"
    },
    {
     "data": {
      "application/vnd.jupyter.widget-view+json": {
       "model_id": "bfd0d208c56f4d2392259daa7fbe8871",
       "version_major": 2,
       "version_minor": 0
      },
      "text/plain": [
       "Downloading:   0%|          | 0.00/695k [00:00<?, ?B/s]"
      ]
     },
     "metadata": {},
     "output_type": "display_data"
    },
    {
     "data": {
      "application/vnd.jupyter.widget-view+json": {
       "model_id": "ef8bf07da5b5443d8aa80881d85fdbf8",
       "version_major": 2,
       "version_minor": 0
      },
      "text/plain": [
       "Downloading:   0%|          | 0.00/125 [00:00<?, ?B/s]"
      ]
     },
     "metadata": {},
     "output_type": "display_data"
    }
   ],
   "source": [
    "from transformers import pipeline\n",
    "\n",
    "# initialize the sentiment pipeline\n",
    "sentiment_pipeline = pipeline('sentiment-analysis', 'FourthBrain/bert_model_reddit_tsla')\n",
    "\n",
    "\n",
    "reddit_json = sentiment_pipeline(dfReddit[\"comment\"].tolist())\n",
    "\n",
    "# Retrieve labels and scores\n",
    "dfReddit['label'] = [reddit_json[i]['label'] for i in range(0, len(reddit_json))]\n",
    "dfReddit['score'] = [reddit_json[i]['score'] for i in range(0, len(reddit_json))]\n"
   ]
  },
  {
   "cell_type": "markdown",
   "metadata": {},
   "source": [
    "Next up, we'll want to perform the following steps\n",
    "\n",
    "1. Convert the `created_at` column to the appropriate format and name it `'timestamp'`\n",
    "2. Normalize the dates using the `NormalizeDates()` helper function"
   ]
  },
  {
   "cell_type": "code",
   "execution_count": 12,
   "metadata": {},
   "outputs": [],
   "source": [
    "import numpy as np\n",
    "from BotUtils import NormalizeDates\n",
    "\n",
    "# Rename timestamp column \n",
    "dfReddit = dfReddit.rename(columns={'created_at': 'timestamp'})\n",
    "dfReddit['timestamp'] = [datetime.fromtimestamp(dt) for dt in dfReddit['timestamp'] ]\n",
    "\n",
    "# Normalize Reddit sentiment data\n",
    "dfReddit = NormalizeDates(dfReddit, timestamp_col=\"timestamp\", interval=interval)\n",
    "\n",
    "# Create a continous time series \n",
    "dfTimeSeries = pd.DataFrame(dfReddit[\"timestamp\"])"
   ]
  },
  {
   "cell_type": "markdown",
   "metadata": {},
   "source": [
    "### Step 6: Get Stock Data 🚀\n",
    "\n",
    "Next up, we're going to get the stock data and create a DataFrame - as well as normalize the dates, just like we did with the subreddit comment timestamps"
   ]
  },
  {
   "cell_type": "code",
   "execution_count": 13,
   "metadata": {},
   "outputs": [],
   "source": [
    "from BotUtils import GetStockData\n",
    "\n",
    "# Get Stock Data\n",
    "j, dfStockData = GetStockData(settings.stock_data_api_key, symbol=symbol, start_date=start_date, end_date=end_date, interval='1day')\n",
    "dfStockData = dfStockData[(dfStockData['timestamp'] >= start_date) & (dfStockData['timestamp'] <= end_date)]\n",
    "\n",
    "# Normalize stock price data\n",
    "dfStockData = NormalizeDates(dfStockData, timestamp_col=\"timestamp\", interval=interval)"
   ]
  },
  {
   "cell_type": "markdown",
   "metadata": {},
   "source": [
    "### Step 7: Merge Sentiment and Stock Data 🧬\n",
    "\n",
    "We've got some processing to do! "
   ]
  },
  {
   "cell_type": "code",
   "execution_count": 14,
   "metadata": {},
   "outputs": [],
   "source": [
    "# Join time series df with stock price df and reddit df\n",
    "dfSentiment = dfTimeSeries.merge(dfStockData, how='left', on=\"timestamp\")\n",
    "dfSentiment = dfSentiment.merge(dfReddit, how='left', on=\"timestamp\")\n",
    "\n",
    "# Filter down to only the columns that we'll be using \n",
    "dfSentiment = dfSentiment[['timestamp', 'close', 'volume', 'label', 'score']]\n",
    "\n",
    "# Clean up NaNs for closing price, score, and labels\n",
    "dfSentiment['close'] = dfSentiment['close'].fillna(0)\n",
    "dfSentiment['score'] = dfSentiment['score'].fillna(0)\n",
    "dfSentiment['label'] = dfSentiment['label'].fillna('NEUTRAL')\n",
    "dfSentiment['label'] = ['NEGATIVE' for s in dfSentiment['label'] == 'LABEL_0']\n",
    "dfSentiment['label'] = ['POSITIVE' for s in dfSentiment['label'] == 'LABEL_1']\n",
    "\n",
    "# Convert close from string to float\n",
    "dfSentiment['close'] = dfSentiment['close'].astype('float')\n",
    "\n",
    "# Calculate weighted sentiment\n",
    "dfSentiment['sentiment'] = [1 if sentiment == \"POSITIVE\"  else 0 if sentiment == \"NEUTRAL\" else -1 for sentiment in dfSentiment['label'].tolist() ]\n",
    "dfSentiment['weighted_sentiment'] = dfSentiment['sentiment'] * dfSentiment['score']\n",
    "\n",
    "# Count only the POSITIVE and NEGATIVE labels (NEUTRAL is just a filler for missing dates)\n",
    "dfSentiment['counter'] = [1 if sentiment == \"POSITIVE\"  else 1 if sentiment == \"NEGATIVE\" else 0 for sentiment in dfSentiment['label'].tolist() ]\n",
    "\n",
    "# Group by to calculate Reddit post count and sentiment score (mean of weighted sentiment)\n",
    "dfSentiment = dfSentiment.groupby('timestamp') \\\n",
    "       .agg({'counter':'sum', 'close':'max', 'volume':max, 'weighted_sentiment':'mean'}) \\\n",
    "       .rename(columns={'sentiment':'count_posts', 'weighted_sentiment':'sentiment_score'}) \\\n",
    "       .reset_index()\n"
   ]
  },
  {
   "cell_type": "code",
   "execution_count": 15,
   "metadata": {},
   "outputs": [
    {
     "data": {
      "text/html": [
       "<div>\n",
       "<style scoped>\n",
       "    .dataframe tbody tr th:only-of-type {\n",
       "        vertical-align: middle;\n",
       "    }\n",
       "\n",
       "    .dataframe tbody tr th {\n",
       "        vertical-align: top;\n",
       "    }\n",
       "\n",
       "    .dataframe thead th {\n",
       "        text-align: right;\n",
       "    }\n",
       "</style>\n",
       "<table border=\"1\" class=\"dataframe\">\n",
       "  <thead>\n",
       "    <tr style=\"text-align: right;\">\n",
       "      <th></th>\n",
       "      <th>timestamp</th>\n",
       "      <th>counter</th>\n",
       "      <th>close</th>\n",
       "      <th>volume</th>\n",
       "      <th>sentiment_score</th>\n",
       "    </tr>\n",
       "  </thead>\n",
       "  <tbody>\n",
       "    <tr>\n",
       "      <th>0</th>\n",
       "      <td>2022-02-01</td>\n",
       "      <td>43776</td>\n",
       "      <td>932.00000</td>\n",
       "      <td>45107400</td>\n",
       "      <td>0.875911</td>\n",
       "    </tr>\n",
       "    <tr>\n",
       "      <th>1</th>\n",
       "      <td>2022-03-01</td>\n",
       "      <td>304175</td>\n",
       "      <td>1099.56995</td>\n",
       "      <td>40225400</td>\n",
       "      <td>0.875140</td>\n",
       "    </tr>\n",
       "    <tr>\n",
       "      <th>2</th>\n",
       "      <td>2022-04-01</td>\n",
       "      <td>172980</td>\n",
       "      <td>1145.44995</td>\n",
       "      <td>45377900</td>\n",
       "      <td>0.838916</td>\n",
       "    </tr>\n",
       "    <tr>\n",
       "      <th>3</th>\n",
       "      <td>2022-05-01</td>\n",
       "      <td>382725</td>\n",
       "      <td>952.62000</td>\n",
       "      <td>48324400</td>\n",
       "      <td>0.854666</td>\n",
       "    </tr>\n",
       "    <tr>\n",
       "      <th>4</th>\n",
       "      <td>2022-06-01</td>\n",
       "      <td>33600</td>\n",
       "      <td>775.00000</td>\n",
       "      <td>40931000</td>\n",
       "      <td>0.859788</td>\n",
       "    </tr>\n",
       "    <tr>\n",
       "      <th>5</th>\n",
       "      <td>2022-07-01</td>\n",
       "      <td>1156</td>\n",
       "      <td>681.78998</td>\n",
       "      <td>24781500</td>\n",
       "      <td>0.869966</td>\n",
       "    </tr>\n",
       "    <tr>\n",
       "      <th>6</th>\n",
       "      <td>2022-08-01</td>\n",
       "      <td>123904</td>\n",
       "      <td>0.00000</td>\n",
       "      <td>NaN</td>\n",
       "      <td>0.850639</td>\n",
       "    </tr>\n",
       "  </tbody>\n",
       "</table>\n",
       "</div>"
      ],
      "text/plain": [
       "   timestamp  counter       close    volume  sentiment_score\n",
       "0 2022-02-01    43776   932.00000  45107400         0.875911\n",
       "1 2022-03-01   304175  1099.56995  40225400         0.875140\n",
       "2 2022-04-01   172980  1145.44995  45377900         0.838916\n",
       "3 2022-05-01   382725   952.62000  48324400         0.854666\n",
       "4 2022-06-01    33600   775.00000  40931000         0.859788\n",
       "5 2022-07-01     1156   681.78998  24781500         0.869966\n",
       "6 2022-08-01   123904     0.00000       NaN         0.850639"
      ]
     },
     "execution_count": 15,
     "metadata": {},
     "output_type": "execute_result"
    }
   ],
   "source": [
    "dfSentiment"
   ]
  },
  {
   "cell_type": "markdown",
   "metadata": {},
   "source": [
    "### Step 8: Final Computation 🖥️\n",
    "\n",
    "In this last step, we're going to finish up some calculations:\n",
    "\n",
    "1. Create the lags and percentage change for the closing stock price. \n",
    "2. Calculate the 3 month rolling average."
   ]
  },
  {
   "cell_type": "code",
   "execution_count": 16,
   "metadata": {},
   "outputs": [
    {
     "data": {
      "text/html": [
       "<div>\n",
       "<style scoped>\n",
       "    .dataframe tbody tr th:only-of-type {\n",
       "        vertical-align: middle;\n",
       "    }\n",
       "\n",
       "    .dataframe tbody tr th {\n",
       "        vertical-align: top;\n",
       "    }\n",
       "\n",
       "    .dataframe thead th {\n",
       "        text-align: right;\n",
       "    }\n",
       "</style>\n",
       "<table border=\"1\" class=\"dataframe\">\n",
       "  <thead>\n",
       "    <tr style=\"text-align: right;\">\n",
       "      <th></th>\n",
       "      <th>timestamp</th>\n",
       "      <th>counter</th>\n",
       "      <th>close</th>\n",
       "      <th>volume</th>\n",
       "      <th>sentiment_score</th>\n",
       "      <th>close_lag1</th>\n",
       "      <th>perc_change_close</th>\n",
       "      <th>sentiment_score_lag1</th>\n",
       "      <th>perc_change_sentiment</th>\n",
       "      <th>sentiment_SMA3mo</th>\n",
       "    </tr>\n",
       "  </thead>\n",
       "  <tbody>\n",
       "    <tr>\n",
       "      <th>1</th>\n",
       "      <td>2022-03-01</td>\n",
       "      <td>304175</td>\n",
       "      <td>1099.56995</td>\n",
       "      <td>40225400</td>\n",
       "      <td>0.875140</td>\n",
       "      <td>932.00000</td>\n",
       "      <td>0.179796</td>\n",
       "      <td>0.875911</td>\n",
       "      <td>-0.000880</td>\n",
       "      <td>0.000000</td>\n",
       "    </tr>\n",
       "    <tr>\n",
       "      <th>2</th>\n",
       "      <td>2022-04-01</td>\n",
       "      <td>172980</td>\n",
       "      <td>1145.44995</td>\n",
       "      <td>45377900</td>\n",
       "      <td>0.838916</td>\n",
       "      <td>1099.56995</td>\n",
       "      <td>0.041725</td>\n",
       "      <td>0.875140</td>\n",
       "      <td>-0.041393</td>\n",
       "      <td>0.863322</td>\n",
       "    </tr>\n",
       "    <tr>\n",
       "      <th>3</th>\n",
       "      <td>2022-05-01</td>\n",
       "      <td>382725</td>\n",
       "      <td>952.62000</td>\n",
       "      <td>48324400</td>\n",
       "      <td>0.854666</td>\n",
       "      <td>1145.44995</td>\n",
       "      <td>-0.168344</td>\n",
       "      <td>0.838916</td>\n",
       "      <td>0.018775</td>\n",
       "      <td>0.856240</td>\n",
       "    </tr>\n",
       "    <tr>\n",
       "      <th>4</th>\n",
       "      <td>2022-06-01</td>\n",
       "      <td>33600</td>\n",
       "      <td>775.00000</td>\n",
       "      <td>40931000</td>\n",
       "      <td>0.859788</td>\n",
       "      <td>952.62000</td>\n",
       "      <td>-0.186454</td>\n",
       "      <td>0.854666</td>\n",
       "      <td>0.005993</td>\n",
       "      <td>0.851123</td>\n",
       "    </tr>\n",
       "    <tr>\n",
       "      <th>5</th>\n",
       "      <td>2022-07-01</td>\n",
       "      <td>1156</td>\n",
       "      <td>681.78998</td>\n",
       "      <td>24781500</td>\n",
       "      <td>0.869966</td>\n",
       "      <td>775.00000</td>\n",
       "      <td>-0.120271</td>\n",
       "      <td>0.859788</td>\n",
       "      <td>0.011838</td>\n",
       "      <td>0.861473</td>\n",
       "    </tr>\n",
       "    <tr>\n",
       "      <th>6</th>\n",
       "      <td>2022-08-01</td>\n",
       "      <td>123904</td>\n",
       "      <td>0.00000</td>\n",
       "      <td>NaN</td>\n",
       "      <td>0.850639</td>\n",
       "      <td>681.78998</td>\n",
       "      <td>-1.000000</td>\n",
       "      <td>0.869966</td>\n",
       "      <td>-0.022216</td>\n",
       "      <td>0.860131</td>\n",
       "    </tr>\n",
       "  </tbody>\n",
       "</table>\n",
       "</div>"
      ],
      "text/plain": [
       "   timestamp  counter       close    volume  sentiment_score  close_lag1  \\\n",
       "1 2022-03-01   304175  1099.56995  40225400         0.875140   932.00000   \n",
       "2 2022-04-01   172980  1145.44995  45377900         0.838916  1099.56995   \n",
       "3 2022-05-01   382725   952.62000  48324400         0.854666  1145.44995   \n",
       "4 2022-06-01    33600   775.00000  40931000         0.859788   952.62000   \n",
       "5 2022-07-01     1156   681.78998  24781500         0.869966   775.00000   \n",
       "6 2022-08-01   123904     0.00000       NaN         0.850639   681.78998   \n",
       "\n",
       "   perc_change_close  sentiment_score_lag1  perc_change_sentiment  \\\n",
       "1           0.179796              0.875911              -0.000880   \n",
       "2           0.041725              0.875140              -0.041393   \n",
       "3          -0.168344              0.838916               0.018775   \n",
       "4          -0.186454              0.854666               0.005993   \n",
       "5          -0.120271              0.859788               0.011838   \n",
       "6          -1.000000              0.869966              -0.022216   \n",
       "\n",
       "   sentiment_SMA3mo  \n",
       "1          0.000000  \n",
       "2          0.863322  \n",
       "3          0.856240  \n",
       "4          0.851123  \n",
       "5          0.861473  \n",
       "6          0.860131  "
      ]
     },
     "execution_count": 16,
     "metadata": {},
     "output_type": "execute_result"
    }
   ],
   "source": [
    "# Create lags and %change for closing stock price\n",
    "dfSentiment['close_lag1'] = dfSentiment['close'].shift(1)\n",
    "dfSentiment['close_lag1'] = dfSentiment['close_lag1'].fillna(0)\n",
    "dfSentiment['perc_change_close'] = (dfSentiment['close'] - dfSentiment['close_lag1']) / dfSentiment['close_lag1']\n",
    "dfSentiment['perc_change_close'] = dfSentiment['perc_change_close'].fillna(0)\n",
    "\n",
    "dfSentiment['sentiment_score_lag1'] = dfSentiment['sentiment_score'].shift(1)\n",
    "dfSentiment['sentiment_score_lag1'] = dfSentiment['sentiment_score_lag1'].fillna(0)\n",
    "dfSentiment['perc_change_sentiment'] = (dfSentiment['sentiment_score'] - dfSentiment['sentiment_score_lag1']) / dfSentiment['sentiment_score_lag1']\n",
    "\n",
    "# Calculate 3 month rolling average\n",
    "dfSentiment['sentiment_SMA3mo'] = dfSentiment.sentiment_score.rolling(3).mean()\n",
    "dfSentiment['sentiment_SMA3mo'] = dfSentiment['sentiment_SMA3mo'].fillna(0)\n",
    "\n",
    "dfSentiment = dfSentiment[1:]\n",
    "dfSentiment"
   ]
  },
  {
   "cell_type": "markdown",
   "metadata": {},
   "source": [
    "Let's save our work in a `.csv` for use later in the Streamlit app!"
   ]
  },
  {
   "cell_type": "code",
   "execution_count": 17,
   "metadata": {},
   "outputs": [],
   "source": [
    "# Save DataFrame locally (or somewhere else) for use in Streamlit app\n",
    "dfSentiment.to_csv('./sentiment_data.csv')"
   ]
  },
  {
   "cell_type": "markdown",
   "metadata": {},
   "source": [
    "### Step 8a: Plotting our Results! 📊\n",
    "\n",
    "Now, after all that, let's plot our results and see how they shape up!"
   ]
  },
  {
   "cell_type": "code",
   "execution_count": 18,
   "metadata": {},
   "outputs": [
    {
     "data": {
      "image/png": "[encoded data removed]",
      "text/plain": [
       "<Figure size 432x288 with 2 Axes>"
      ]
     },
     "metadata": {
      "needs_background": "light"
     },
     "output_type": "display_data"
    }
   ],
   "source": [
    "import matplotlib.pyplot as plt\n",
    "\n",
    "ax1 = dfSentiment.plot(kind = 'line', x = 'timestamp',\n",
    "                  y = 'sentiment_score', color = 'Red',\n",
    "                  linewidth = 3)\n",
    "\n",
    "ax2 = dfSentiment.plot(kind = 'line', x = 'timestamp',\n",
    "                   y = 'close', secondary_y = True,\n",
    "                   color = 'Blue',  linewidth = 3,\n",
    "                   ax = ax1) \n",
    "\n",
    "#labeling x and y-axis\n",
    "ax1.set_xlabel('Timestamp', color = 'black')\n",
    "ax1.set_ylabel('Sentiment Score', color = \"r\")\n",
    "ax2.set_ylabel('% Change Stock Price', color = 'b')\n",
    " \n",
    "#defining display layout\n",
    "plt.tight_layout()\n",
    " \n",
    "#show plot\n",
    "plt.show()"
   ]
  }
 ],
 "metadata": {
  "kernelspec": {
   "display_name": "Python 3.9.13 ('tsla_bot')",
   "language": "python",
   "name": "python3"
  },
  "language_info": {
   "codemirror_mode": {
    "name": "ipython",
    "version": 3
   },
   "file_extension": ".py",
   "mimetype": "text/x-python",
   "name": "python",
   "nbconvert_exporter": "python",
   "pygments_lexer": "ipython3",
   "version": "3.9.13"
  },
  "vscode": {
   "interpreter": {
    "hash": "9a149992abd04c8389cce8cb62c46441d64e9fbfed7140169acd0f2a7a3a2c25"
   }
  }
 },
 "nbformat": 4,
 "nbformat_minor": 2
}
